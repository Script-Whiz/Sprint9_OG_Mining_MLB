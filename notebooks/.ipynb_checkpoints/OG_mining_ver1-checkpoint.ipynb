{
 "cells": [
  {
   "cell_type": "markdown",
   "id": "d358d65d-8518-40e9-9d76-56180b8f8768",
   "metadata": {},
   "source": [
    "# Oily Giant Mining; Geological Exploration, by Deborah Thomas"
   ]
  },
  {
   "cell_type": "markdown",
   "id": "ae99a6ed-b9a5-47f1-b75c-bb740b9579db",
   "metadata": {},
   "source": [
    "<H2>This data mining will answer the question: \"What is the best geographical site for a new well?\"</H2>\n",
    "\n",
    "- I will find this answer by studying existing oil quality and volume of reserves. \n",
    "- I will build a predictive model that will help predict the geographic location that has the potential for highest profit.\n",
    "- I will predict the volume of reserves in this new well."
   ]
  },
  {
   "cell_type": "markdown",
   "id": "0b96c0fa-03c4-4c04-8166-3da8aa47b090",
   "metadata": {},
   "source": [
    "## <div style=\"color: red; border: 2px solid yellow; display: inline-block;\">Import libraries</div>"
   ]
  },
  {
   "cell_type": "code",
   "execution_count": null,
   "id": "b2549031-226e-4425-a2c3-2ce9ab0655f4",
   "metadata": {},
   "outputs": [],
   "source": [
    "import pandas as pd\n",
    "import numpy as np\n",
    "\n",
    "from sklearn.model_selection import train_test_split\n",
    "\n",
    "from sklearn.linear_model import LinearRegression\n",
    "from sklearn.metrics import mean_squared_error\n",
    "from sklearn.preprocessing import StandardScaler\n",
    "\n",
    "from IPython.display import display, HTML\n",
    "\n",
    "import matplotlib.pyplot as plt\n",
    "\n",
    "import plotly.graph_objects as go\n",
    "import plotly.io as pio\n",
    "\n",
    "from termcolor import colored"
   ]
  },
  {
   "cell_type": "markdown",
   "id": "f2fb3193-3d7e-41dd-8fe1-cbafe93ff0c0",
   "metadata": {},
   "source": [
    "## <div style=\"color: red; border: 2px solid yellow; display: inline-block;\">Load in 3 datasets:</div>"
   ]
  },
  {
   "cell_type": "markdown",
   "id": "cd2ea6dc-b08c-4e14-b34b-9192b8947023",
   "metadata": {},
   "source": [
    "### ( 1 dataset for each region )"
   ]
  },
  {
   "cell_type": "code",
   "execution_count": null,
   "id": "83650770-d328-4591-a56c-dbbd7236b850",
   "metadata": {},
   "outputs": [],
   "source": [
    "try:\n",
    "    region1 = pd.read_csv('/datasets/geo_data_0.csv')  # Attempt to read from the server path\n",
    "except FileNotFoundError:\n",
    "    region1 = pd.read_csv('../datasets/geo_data_0.csv')  # Fallback to the local path\n",
    "\n",
    "\n",
    "display(region1.head(10))"
   ]
  },
  {
   "cell_type": "code",
   "execution_count": null,
   "id": "c16fb57a-2f4f-47c1-b244-c51d1eec051b",
   "metadata": {},
   "outputs": [],
   "source": [
    "try:\n",
    "    region2 = pd.read_csv('/datasets/geo_data_1.csv')  # Attempt to read from the server path\n",
    "except FileNotFoundError:\n",
    "    region2 = pd.read_csv('../datasets/geo_data_1.csv')  # Fallback to the local path\n",
    "\n",
    "\n",
    "display(region2.head(10))"
   ]
  },
  {
   "cell_type": "code",
   "execution_count": null,
   "id": "3fe87e15-134c-43bf-bcfc-103bf053cfbd",
   "metadata": {},
   "outputs": [],
   "source": [
    "try:\n",
    "    region3 = pd.read_csv('/datasets/geo_data_2.csv')  # Attempt to read from the server path\n",
    "except FileNotFoundError:\n",
    "    region3 = pd.read_csv('../datasets/geo_data_2.csv')  # Fallback to the local path\n",
    "\n",
    "\n",
    "display(region3.head(10))"
   ]
  },
  {
   "cell_type": "markdown",
   "id": "53c92bd5-bbd0-454d-ba14-cfd8f2c621f7",
   "metadata": {},
   "source": [
    "### Explanation of the columns :\n",
    "- id: unique oil well identifier\n",
    "- f0, f1, f2: three features of points\n",
    "- product: volume of reserves in the oil well (per thousand barrels)."
   ]
  },
  {
   "cell_type": "markdown",
   "id": "31ccef49-16e1-4e83-a26f-3faa319af6ed",
   "metadata": {},
   "source": [
    "### Explanation of value of each unit:\n",
    "- 1 unit = 1,000 barrels\n",
    "- 1 barrel's worth = /$4.50 USD.\n",
    "- 1 unit's worth = **\\$4.50** times 1,000 = **\\$4,500 USD**"
   ]
  },
  {
   "cell_type": "code",
   "execution_count": null,
   "id": "1dcda4f6-6dbd-451c-b5d0-c2844bb26b1c",
   "metadata": {},
   "outputs": [],
   "source": [
    "print(\"Region 1 dataset:\")\n",
    "print(region1.shape)"
   ]
  },
  {
   "cell_type": "code",
   "execution_count": null,
   "id": "c799d8c9-7ab7-47a6-902a-4b68d3e48c93",
   "metadata": {},
   "outputs": [],
   "source": [
    "print(\"Region 2 dataset:\")\n",
    "print(region2.shape)"
   ]
  },
  {
   "cell_type": "code",
   "execution_count": null,
   "id": "3307d868-1f54-498f-9857-e05adb244a3f",
   "metadata": {},
   "outputs": [],
   "source": [
    "print(\"Region 3 dataset:\")\n",
    "print(region3.shape)"
   ]
  },
  {
   "cell_type": "markdown",
   "id": "4cdcf209-1cab-49a0-91c8-6a18edbf0226",
   "metadata": {},
   "source": [
    "#### All 3 datasets have the same amount of rows and columns."
   ]
  },
  {
   "cell_type": "markdown",
   "id": "6af29b2c-d7b4-4cb1-894a-e74f0275ec2b",
   "metadata": {},
   "source": [
    "## <div style=\"color: red; border: 2px solid yellow; display: inline-block;\">Clean the Data</div>"
   ]
  },
  {
   "cell_type": "code",
   "execution_count": null,
   "id": "2c5e64cd-8ea7-4dd3-9536-f2c925eefeac",
   "metadata": {},
   "outputs": [],
   "source": [
    "region1.info()"
   ]
  },
  {
   "cell_type": "markdown",
   "id": "71c1e530-2d10-4220-bb88-33e12b536bc2",
   "metadata": {},
   "source": [
    "### Rename columns:"
   ]
  },
  {
   "cell_type": "markdown",
   "id": "957a113d-b629-436a-ad23-48dac13a90b3",
   "metadata": {},
   "source": [
    "#### Change 'id' to 'well_id' to make it clear that each row represents one well.  Change 'products' to 'vol_reseres' to make it clear that this column is the total volume of reserves."
   ]
  },
  {
   "cell_type": "code",
   "execution_count": null,
   "id": "61d53cbc-3604-4380-a5e8-b60dbf48a416",
   "metadata": {},
   "outputs": [],
   "source": [
    "region1.rename(columns={\n",
    "    'id': 'well_id',\n",
    "    'product': 'vol_reserves'\n",
    "}, inplace=True)"
   ]
  },
  {
   "cell_type": "code",
   "execution_count": null,
   "id": "e3d9e95a-a7ce-468e-a82b-d6f5bac0d0cf",
   "metadata": {},
   "outputs": [],
   "source": [
    "region1.columns"
   ]
  },
  {
   "cell_type": "code",
   "execution_count": null,
   "id": "82de2524-4d06-4fa2-a4f6-4987f14bb71c",
   "metadata": {},
   "outputs": [],
   "source": [
    "region2.rename(columns={\n",
    "    'id': 'well_id',\n",
    "    'product': 'vol_reserves'\n",
    "}, inplace=True)"
   ]
  },
  {
   "cell_type": "code",
   "execution_count": null,
   "id": "5163b78e-4c22-44f9-a422-ae3151ab511b",
   "metadata": {},
   "outputs": [],
   "source": [
    "region2.columns"
   ]
  },
  {
   "cell_type": "code",
   "execution_count": null,
   "id": "9f1dda33-befb-49d0-891a-58f264a8aab7",
   "metadata": {},
   "outputs": [],
   "source": [
    "region3.rename(columns={\n",
    "    'id': 'well_id',\n",
    "    'product': 'vol_reserves'\n",
    "}, inplace=True)"
   ]
  },
  {
   "cell_type": "code",
   "execution_count": null,
   "id": "e22bfd7d-3582-4900-b748-00636dc1e003",
   "metadata": {},
   "outputs": [],
   "source": [
    "region3.columns"
   ]
  },
  {
   "cell_type": "markdown",
   "id": "888abbc7-a8ac-4705-aa62-78a0706edbd0",
   "metadata": {},
   "source": [
    "#### Datatypes, on all three datasets, looks good."
   ]
  },
  {
   "cell_type": "markdown",
   "id": "2d39f65e-035d-4d55-8250-2c153bc50bfb",
   "metadata": {},
   "source": [
    "#### There is no missing data, on any of the three datasets."
   ]
  },
  {
   "cell_type": "markdown",
   "id": "ede1162a-58ba-4818-92eb-2ca3c45d1a55",
   "metadata": {},
   "source": [
    "### Drop duplicates"
   ]
  },
  {
   "cell_type": "code",
   "execution_count": null,
   "id": "ab1bb1eb-42fd-4ec1-bd77-c4314cbeca15",
   "metadata": {},
   "outputs": [],
   "source": [
    "region1 = region1.drop_duplicates(subset='well_id')"
   ]
  },
  {
   "cell_type": "code",
   "execution_count": null,
   "id": "afa8af7a-671e-46f7-93a0-c6f6b97cc24e",
   "metadata": {},
   "outputs": [],
   "source": [
    "region1.shape"
   ]
  },
  {
   "cell_type": "code",
   "execution_count": null,
   "id": "4cadf07e-6a20-4c10-83ea-01d09767c779",
   "metadata": {},
   "outputs": [],
   "source": [
    "region2 = region2.drop_duplicates(subset='well_id')"
   ]
  },
  {
   "cell_type": "code",
   "execution_count": null,
   "id": "f3237de8-5c00-4d00-8005-6b67e41061b6",
   "metadata": {},
   "outputs": [],
   "source": [
    "region2.shape"
   ]
  },
  {
   "cell_type": "code",
   "execution_count": null,
   "id": "fc30f4de-b7f3-468f-9dc0-e4e8f9eba766",
   "metadata": {},
   "outputs": [],
   "source": [
    "region3 = region3.drop_duplicates(subset='well_id')"
   ]
  },
  {
   "cell_type": "code",
   "execution_count": null,
   "id": "4521f6d7-9f74-4370-819e-4a6ad3a142d1",
   "metadata": {},
   "outputs": [],
   "source": [
    "region3.shape"
   ]
  },
  {
   "cell_type": "markdown",
   "id": "d4a84677-ffaf-44c2-bfbc-08d537296166",
   "metadata": {},
   "source": [
    "#### Data is clean"
   ]
  },
  {
   "cell_type": "markdown",
   "id": "1516d969-1d5f-406d-a3c0-c3a620f79a81",
   "metadata": {},
   "source": [
    "#### ... but, region1 now has 6 fewer rows than region2 and region3."
   ]
  },
  {
   "cell_type": "markdown",
   "id": "d1812594-343b-4bbb-bcfa-9ba376624260",
   "metadata": {},
   "source": [
    "## <div style=\"color: red; border: 2px solid yellow; display: inline-block;\">Exploratory data analysis:</div>"
   ]
  },
  {
   "cell_type": "markdown",
   "id": "74868b9e-b042-4c5d-8be0-81104bf1c544",
   "metadata": {},
   "source": [
    "## <span style=\"color:blue;\">Region 1:</span>"
   ]
  },
  {
   "cell_type": "code",
   "execution_count": null,
   "id": "2e0b7f79-6f1d-4132-815d-b61271f8341d",
   "metadata": {},
   "outputs": [],
   "source": [
    "region1.describe()"
   ]
  },
  {
   "cell_type": "code",
   "execution_count": null,
   "id": "173311de-8678-416c-8531-ea6b3547e842",
   "metadata": {},
   "outputs": [],
   "source": [
    "# Generate the summary statistics\n",
    "summary_stats_reg1 = region1.describe()"
   ]
  },
  {
   "cell_type": "code",
   "execution_count": null,
   "id": "8325cc37-64b1-4953-80b5-a237f4ce7958",
   "metadata": {},
   "outputs": [],
   "source": [
    "# Extract the mean value for the 'product' column\n",
    "mean_reserves_reg1 = round(summary_stats_reg1.loc['mean', 'vol_reserves'], 2)\n",
    "print(mean_reserves_reg1)"
   ]
  },
  {
   "cell_type": "code",
   "execution_count": null,
   "id": "36736e87-8932-45c2-b455-4d96c671b031",
   "metadata": {},
   "outputs": [],
   "source": [
    "# Extract the mean value for the features\n",
    "mean_f0_reg1 = round(summary_stats_reg1.loc['mean', 'f0'], 2)\n",
    "mean_f1_reg1 = round(summary_stats_reg1.loc['mean', 'f1'], 2)\n",
    "mean_f2_reg1 = round(summary_stats_reg1.loc['mean', 'f2'], 2)"
   ]
  },
  {
   "cell_type": "code",
   "execution_count": null,
   "id": "9493c7bd-6900-4bd6-a390-587068c44dbf",
   "metadata": {},
   "outputs": [],
   "source": [
    "# HTML styled string\n",
    "formatted_string_reg1_mean = f'<span style=\"color:blue; font-size:16px;\">The average amount of oil reserves, in region 1 is: &nbsp; {mean_reserves_reg1:.2f}</span>'\n",
    "formatted_string_reg1_mean_features = f'<span style=\"color:blue; font-size:16px;\">The mean values of features, in region 1 are: &nbsp; f0: &nbsp; {mean_f0_reg1:.2f}, &nbsp;f1: &nbsp; {mean_f1_reg1:.2f}, &nbsp;f2: &nbsp;{mean_f2_reg1:.2f}</span>'\n",
    "\n",
    "# Display the formatted string\n",
    "display(HTML(formatted_string_reg1_mean))\n",
    "display(HTML(formatted_string_reg1_mean_features))"
   ]
  },
  {
   "cell_type": "code",
   "execution_count": null,
   "id": "6ff00dd4-213d-476b-b3b0-12bce1a11fb7",
   "metadata": {},
   "outputs": [],
   "source": [
    "# Data for plotting region1 mean values\n",
    "features = ['f0', 'f1', 'f2', 'vol_reserves']\n",
    "values = [mean_f0_reg1, mean_f1_reg1, mean_f2_reg1, mean_reserves_reg1]"
   ]
  },
  {
   "cell_type": "code",
   "execution_count": null,
   "id": "e906ef6e-46c0-4295-b528-12c9ffae8658",
   "metadata": {},
   "outputs": [],
   "source": [
    "pio.renderers.default = 'png'\n",
    "\n",
    "# Create a bar plot\n",
    "fig1 = go.Figure(data=[\n",
    "    go.Bar(\n",
    "        x=features, \n",
    "        y=values, \n",
    "        marker_color=['lightblue', 'lightblue', 'lightblue', 'blue'],\n",
    "        text=values,  # hover text uses 'text' attribute\n",
    "        hoverinfo='text',  # display text when hovering\n",
    "    )\n",
    "])\n",
    "\n",
    "# Add titles and labels\n",
    "fig1.update_layout(\n",
    "    title={\n",
    "        'text': 'Average of Features and Volume Reserves in Region 1',\n",
    "        'x': 0.5,  # Center the title\n",
    "        'xanchor': 'center',\n",
    "    },\n",
    "    xaxis_title='Features',\n",
    "    yaxis_title='Mean Values',\n",
    "    font=dict(size=14),\n",
    ")\n",
    "\n",
    "fig1.show()"
   ]
  },
  {
   "cell_type": "markdown",
   "id": "67605b52-86a2-4088-a127-6886e056cd05",
   "metadata": {},
   "source": [
    "## <span style=\"color:limegreen;\">Region 2:</span>"
   ]
  },
  {
   "cell_type": "code",
   "execution_count": null,
   "id": "fd80b508-d5c2-4dcf-b9e4-167dabd0d49b",
   "metadata": {},
   "outputs": [],
   "source": [
    "region2.describe()"
   ]
  },
  {
   "cell_type": "code",
   "execution_count": null,
   "id": "1f8ca55f-489e-4d54-9d69-51c265e256fc",
   "metadata": {},
   "outputs": [],
   "source": [
    "# Generate the summary statistics\n",
    "summary_stats_reg2 = region2.describe()"
   ]
  },
  {
   "cell_type": "code",
   "execution_count": null,
   "id": "864ab419-36c6-45ab-a8b7-ed0f4e0b0b05",
   "metadata": {},
   "outputs": [],
   "source": [
    "# Extract the mean value for the 'product' column\n",
    "mean_reserves_reg2 = round(summary_stats_reg2.loc['mean', 'vol_reserves'], 2)\n",
    "print(mean_reserves_reg2)"
   ]
  },
  {
   "cell_type": "code",
   "execution_count": null,
   "id": "eeef1ad1-a432-47b1-a434-47dfd48ce289",
   "metadata": {},
   "outputs": [],
   "source": [
    "# Extract the mean value for the features\n",
    "mean_f0_reg2 = round(summary_stats_reg2.loc['mean', 'f0'], 2)\n",
    "mean_f1_reg2 = round(summary_stats_reg2.loc['mean', 'f1'], 2)\n",
    "mean_f2_reg2 = round(summary_stats_reg2.loc['mean', 'f2'], 2)"
   ]
  },
  {
   "cell_type": "code",
   "execution_count": null,
   "id": "c84202ab-3041-4770-b5ea-a865138d880a",
   "metadata": {},
   "outputs": [],
   "source": [
    "# HTML styled string\n",
    "formatted_string_reg2_mean_reserves = f'<span style=\"color:limegreen; font-size:16px;\">The average amount of oil reserves, in region 2 is: &nbsp;  {mean_reserves_reg2:.2f}</span>'\n",
    "formatted_string_reg2_mean_features = f'<span style=\"color:limegreen; font-size:16px;\">The mean values of features, in region 2 are: &nbsp; f0:&nbsp; {mean_f0_reg2:.2f}, &nbsp;f1:&nbsp; {mean_f1_reg2:.2f}, &nbsp; f2: &nbsp;{mean_f2_reg2:.2f}</span>'\n",
    "\n",
    "# Display the formatted string\n",
    "display(HTML(formatted_string_reg2_mean_reserves))\n",
    "display(HTML(formatted_string_reg2_mean_features))"
   ]
  },
  {
   "cell_type": "code",
   "execution_count": null,
   "id": "7a0d6fa7-d99b-413d-970c-bf01b8596a72",
   "metadata": {},
   "outputs": [],
   "source": [
    "# Data for plotting region2 mean values\n",
    "features2 = ['f0', 'f1', 'f2', 'vol_reserves']\n",
    "values2 = [mean_f0_reg2, mean_f1_reg2, mean_f2_reg2, mean_reserves_reg2]"
   ]
  },
  {
   "cell_type": "code",
   "execution_count": null,
   "id": "85ed13d5-7f14-4614-b238-d89d62c82988",
   "metadata": {},
   "outputs": [],
   "source": [
    "# Create a bar plot\n",
    "fig2 = go.Figure(data=[\n",
    "    go.Bar(\n",
    "        x=features2, \n",
    "        y=values2, \n",
    "        marker_color=['lightgreen', 'lightgreen', 'lightgreen', 'limegreen'],\n",
    "        text=values,  # hover text uses 'text' attribute\n",
    "        hoverinfo='text',  # display text when hovering\n",
    "    )\n",
    "])\n",
    "\n",
    "# Add titles and labels\n",
    "fig2.update_layout(\n",
    "    title={\n",
    "        'text': 'Average of Features and Volume Reserves in Region 2',\n",
    "        'x': 0.5,  # Center the title\n",
    "        'xanchor': 'center',\n",
    "    },\n",
    "    xaxis_title='Features',\n",
    "    yaxis_title='Mean Values',\n",
    "    font=dict(size=14),\n",
    ")\n",
    "\n",
    "fig2.show()"
   ]
  },
  {
   "cell_type": "markdown",
   "id": "615a0cc5-833b-46a2-90f9-56b403f9fa7c",
   "metadata": {},
   "source": [
    "#### Interesting... f1 mean is below zero."
   ]
  },
  {
   "cell_type": "markdown",
   "id": "57e84539-ac3b-4a5a-83c4-4ffddb479976",
   "metadata": {},
   "source": [
    "## <span style=\"color:orange;\">Region 3:</span>"
   ]
  },
  {
   "cell_type": "code",
   "execution_count": null,
   "id": "e1bbac8c-e798-4351-9dde-f4c57c532a93",
   "metadata": {},
   "outputs": [],
   "source": [
    "region3.describe()"
   ]
  },
  {
   "cell_type": "code",
   "execution_count": null,
   "id": "a2b9b9b5-3c0c-4de2-accd-c0c946aa093c",
   "metadata": {},
   "outputs": [],
   "source": [
    "# Generate the summary statistics\n",
    "summary_stats_reg3 = region3.describe()"
   ]
  },
  {
   "cell_type": "code",
   "execution_count": null,
   "id": "072056ae-8db9-466f-be40-0bca3bc11f43",
   "metadata": {},
   "outputs": [],
   "source": [
    "# Extract the mean value for the 'product' column\n",
    "mean_reserves_reg3 = round(summary_stats_reg3.loc['mean', 'vol_reserves'], 2)\n",
    "print(mean_reserves_reg3)"
   ]
  },
  {
   "cell_type": "code",
   "execution_count": null,
   "id": "25ff6153-4837-495c-b9aa-8e76eb5f8873",
   "metadata": {},
   "outputs": [],
   "source": [
    "# Extract the mean value for the features\n",
    "mean_f0_reg3 = round(summary_stats_reg3.loc['mean', 'f0'], 2)\n",
    "mean_f1_reg3 = round(summary_stats_reg3.loc['mean', 'f1'], 2)\n",
    "mean_f2_reg3 = round(summary_stats_reg3.loc['mean', 'f2'], 2)"
   ]
  },
  {
   "cell_type": "code",
   "execution_count": null,
   "id": "a8b69dc4-951f-4911-85c7-0f9493059f23",
   "metadata": {},
   "outputs": [],
   "source": [
    "# HTML styled string\n",
    "formatted_string_reg3_mean_reserves = f'<span style=\"color:orange; font-size:16px;\">The average amount of oil reserves, in region 3 is: &nbsp; {mean_reserves_reg3:.2f}</span>'\n",
    "formatted_string_reg3_mean_features = f'<span style=\"color:orange; font-size:16px;\">The mean values of features, in region 3 are: &nbsp; f0: &nbsp; {mean_f0_reg3:.2f}, &nbsp; f1: &nbsp; {mean_f1_reg3:.2f}, &nbsp; f2: &nbsp; {mean_f2_reg3:.2f}</span>'\n",
    "\n",
    "# Display the formatted string\n",
    "display(HTML(formatted_string_reg3_mean_reserves))\n",
    "display(HTML(formatted_string_reg3_mean_features))"
   ]
  },
  {
   "cell_type": "code",
   "execution_count": null,
   "id": "383af875-9909-4750-bcf7-9162ddc10f12",
   "metadata": {},
   "outputs": [],
   "source": [
    "# Data for plotting region2 mean values\n",
    "features3 = ['f0', 'f1', 'f2', 'vol_reserves']\n",
    "values3 = [mean_f0_reg3, mean_f1_reg3, mean_f2_reg3, mean_reserves_reg3]"
   ]
  },
  {
   "cell_type": "code",
   "execution_count": null,
   "id": "f3f3d1eb-ed04-479f-ad52-7c8083fcd493",
   "metadata": {},
   "outputs": [],
   "source": [
    "# Create a bar plot\n",
    "fig3 = go.Figure(data=[\n",
    "    go.Bar(\n",
    "        x=features3, \n",
    "        y=values3, \n",
    "        marker_color=['coral', 'coral', 'coral', 'orange'],\n",
    "        text=values,  # hover text uses 'text' attribute\n",
    "        hoverinfo='text',  # display text when hovering\n",
    "    )\n",
    "])\n",
    "\n",
    "# Add titles and labels\n",
    "fig3.update_layout(\n",
    "    title={\n",
    "        'text': 'Average of Features and Volume Reserves in Region 3',\n",
    "        'x': 0.5,  # Center the title\n",
    "        'xanchor': 'center',\n",
    "    },\n",
    "    xaxis_title='Features',\n",
    "    yaxis_title='Mean Values',\n",
    "    font=dict(size=14),\n",
    ")\n",
    "\n",
    "fig3.show()"
   ]
  },
  {
   "cell_type": "markdown",
   "id": "1f2c63b5-6b48-470a-81e4-2cdf84fe42fc",
   "metadata": {},
   "source": [
    "#### f0 and f1 mean are both very close to zero, so nothing shows on the graph for those means."
   ]
  },
  {
   "cell_type": "markdown",
   "id": "4c903e2a-b1ef-440d-b94b-99e540620ba1",
   "metadata": {},
   "source": [
    "<div style=\"color: red; padding: 10px;\">\n",
    "    <h3>Volume of Reserves for all 3 regions:</h3>\n",
    "</div>"
   ]
  },
  {
   "cell_type": "code",
   "execution_count": null,
   "id": "71dbe59a-a26d-4fd5-8e6a-55d2485e4b4a",
   "metadata": {},
   "outputs": [],
   "source": [
    "# Data for plotting\n",
    "regions = ['Region 1', 'Region 2', 'Region 3']\n",
    "mean_vol_reserves = [mean_reserves_reg1, mean_reserves_reg2, mean_reserves_reg3]\n",
    "colors = ['blue', 'limegreen', 'orange']"
   ]
  },
  {
   "cell_type": "code",
   "execution_count": null,
   "id": "d5a45950-ac4e-47c6-859c-a9311549f0ea",
   "metadata": {},
   "outputs": [],
   "source": [
    "# Create a bar plot\n",
    "fig = go.Figure(data=[\n",
    "    go.Bar(\n",
    "        x=regions, \n",
    "        y=mean_vol_reserves, \n",
    "        marker_color=colors,\n",
    "        text=mean_vol_reserves,  # hover text uses 'text' attribute\n",
    "        hoverinfo='text',  # display text when hovering\n",
    "    )\n",
    "])\n",
    "\n",
    "# Add titles and labels\n",
    "fig.update_layout(\n",
    "    title={\n",
    "        'text': 'Average Volume Reserves by Region',\n",
    "        'x': 0.5,  # Center the title\n",
    "        'xanchor': 'center',\n",
    "    },\n",
    "    xaxis_title='Regions',\n",
    "    yaxis_title='Mean Volume Reserves',\n",
    "    font=dict(size=14),\n",
    ")\n",
    "\n",
    "fig.show()"
   ]
  },
  {
   "cell_type": "markdown",
   "id": "4610872d-0502-4d8e-8626-d597fcd920b2",
   "metadata": {},
   "source": [
    "#### Region 3 has the highest volume of reserves. Region 2 has the lowest."
   ]
  },
  {
   "cell_type": "markdown",
   "id": "d049ac21-fd78-4d17-ae65-56602a9d5a9e",
   "metadata": {},
   "source": [
    "## <div style=\"color: red; border: 2px solid yellow; display: inline-block;\">Predictions for best location for new well:</div>"
   ]
  },
  {
   "cell_type": "markdown",
   "id": "2c598459-9dd7-4ad8-a486-d47b89b54bfb",
   "metadata": {},
   "source": [
    "<h2><b>This section will:</b></h2>\n",
    "<ul>\n",
    "    <li>Split the data into training and validation sets.</li>\n",
    "    <li>Scale the data</li>\n",
    "    <li>Train a linear regression model for each region.</li>\n",
    "    <li>Evaluate the model's performance using RMSE (Root Mean Squared Error).</li>\n",
    "</ul>"
   ]
  },
  {
   "cell_type": "markdown",
   "id": "478220d5-3140-499c-bfcd-110408f49d02",
   "metadata": {},
   "source": [
    "<div style=\"color: red; padding: 10px;\">\n",
    "    <h3>Split the 3 datasets:</h3>\n",
    "</div>"
   ]
  },
  {
   "cell_type": "code",
   "execution_count": null,
   "id": "03543a5a-15aa-4509-a0d6-3d5a67f9f455",
   "metadata": {},
   "outputs": [],
   "source": [
    "def split_data(df, feature_cols, target_col, test_size=0.25, random_state=12345):\n",
    "    # Split the data into features and target sets\n",
    "    features = df[feature_cols]\n",
    "    target = df[target_col]\n",
    "\n",
    "    # Split the data into training and validation sets\n",
    "    features_train, features_valid, target_train, target_valid = train_test_split(\n",
    "        features, target, test_size=test_size, random_state=random_state\n",
    "    )\n",
    "    \n",
    "    return features_train, features_valid, target_train, target_valid"
   ]
  },
  {
   "cell_type": "code",
   "execution_count": null,
   "id": "1cb998bd-5daa-41b0-b20d-f51117706cb2",
   "metadata": {},
   "outputs": [],
   "source": [
    "#The column names are the same for all three datasets (region1, region2, and region3), so this only has to be done once.\n",
    "feature_columns = [col for col in region1.columns if col not in ['well_id', 'vol_reserves']]\n",
    "target_column = 'vol_reserves'\n",
    "\n",
    "print(feature_columns)\n",
    "print(target_column)"
   ]
  },
  {
   "cell_type": "code",
   "execution_count": null,
   "id": "e6c00773-ce32-47ef-b4b2-69c340562b65",
   "metadata": {},
   "outputs": [],
   "source": [
    "# Call the split_data function"
   ]
  },
  {
   "cell_type": "code",
   "execution_count": null,
   "id": "95566e57-a386-4475-8f9c-33cfa7299083",
   "metadata": {},
   "outputs": [],
   "source": [
    "features_train1, features_valid1, target_train1, target_valid1 = split_data(region1, feature_columns, target_column)\n",
    "features_train2, features_valid2, target_train2, target_valid2 = split_data(region2, feature_columns, target_column)\n",
    "features_train3, features_valid3, target_train3, target_valid3 = split_data(region3, feature_columns, target_column)"
   ]
  },
  {
   "cell_type": "code",
   "execution_count": null,
   "id": "f7252bbf-5683-49b0-9c78-b825ce9bdccc",
   "metadata": {},
   "outputs": [],
   "source": [
    "len(features_train1)"
   ]
  },
  {
   "cell_type": "code",
   "execution_count": null,
   "id": "11f9b626-73ab-4311-9d7b-11b0bbcf6b00",
   "metadata": {},
   "outputs": [],
   "source": [
    "len(features_valid1)"
   ]
  },
  {
   "cell_type": "code",
   "execution_count": null,
   "id": "34b0f9ca-9091-4356-adfb-c58624594525",
   "metadata": {},
   "outputs": [],
   "source": [
    "len(target_train1)"
   ]
  },
  {
   "cell_type": "code",
   "execution_count": null,
   "id": "537a5ae1-7449-4e69-b69e-264df65f11f0",
   "metadata": {},
   "outputs": [],
   "source": [
    "len(target_valid1)"
   ]
  },
  {
   "cell_type": "markdown",
   "id": "0061c30a-5fdd-4f59-93a2-8c8ad10181c9",
   "metadata": {},
   "source": [
    "- <b>Features: variables (input data) used to make predictions.</b>\n",
    "<br>\n",
    "- <b>Target:  variable (output data) that I am trying to predict.</b>"
   ]
  },
  {
   "cell_type": "markdown",
   "id": "e40bd845-9dc5-4e66-b9c3-db7839ccc1d3",
   "metadata": {},
   "source": [
    "<H3>Purpose of Each Split</H3>\n",
    "<br>\n",
    "1. <b>features_train:</b> 75% of the feature data.\n",
    "<br>\n",
    "Purpose: Used to train the machine learning model. The model learns the patterns and relationships within this data.\n",
    "<br>\n",
    "<br>\n",
    "2. <b>features_valid:</b> 25% of the feature data.\n",
    "<br>\n",
    "Purpose: Used to validate the model’s performance. This data is not seen by the model during training, providing an unbiased evaluation of the model’s predictive performance.\n",
    "\n",
    "<br>   \n",
    "<br>\n",
    "3. <b>target_train:</b> 75% of the target data.\n",
    "<br>\n",
    "Purpose: Represents the actual target values corresponding to features_train. The model uses this data during training to learn the mapping from features to target values.\n",
    "<br>\n",
    "<br>\n",
    "4. <b>target_valid:</b> 25% of the target data.<br>\n",
    "Purpose: Represents the actual target values corresponding to features_valid. Used to evaluate the model’s performance by comparing the model's predictions to these actual values."
   ]
  },
  {
   "cell_type": "markdown",
   "id": "9efc1772-6e23-4d4b-8d18-b08ff6dfc01c",
   "metadata": {},
   "source": [
    "<div style=\"color: red; padding: 10px;\">\n",
    "    <h3>Scale the features:</h3>\n",
    "</div>"
   ]
  },
  {
   "cell_type": "code",
   "execution_count": null,
   "id": "ef472688-2702-47ac-90b9-695a837fac49",
   "metadata": {},
   "outputs": [],
   "source": [
    "def scale_data(features_train, features_valid):\n",
    "    scaler = StandardScaler()\n",
    "\n",
    "    # Fit and transform the training data, transform the validation data\n",
    "    features_train_scaled = scaler.fit_transform(features_train)\n",
    "    features_valid_scaled = scaler.transform(features_valid)\n",
    "    \n",
    "    return features_train_scaled, features_valid_scaled  "
   ]
  },
  {
   "cell_type": "code",
   "execution_count": null,
   "id": "09ee050e-2537-4176-9864-1b346afb720f",
   "metadata": {},
   "outputs": [],
   "source": [
    "# Scale data for each region\n",
    "features_train1_scaled, features_valid1_scaled = scale_data(features_train1, features_valid1)\n",
    "features_train2_scaled, features_valid2_scaled = scale_data(features_train2, features_valid2)\n",
    "features_train3_scaled, features_valid3_scaled = scale_data(features_train3, features_valid3)"
   ]
  },
  {
   "cell_type": "markdown",
   "id": "806b8729-b0fd-45db-8e8e-b7cdbab47dfa",
   "metadata": {},
   "source": [
    "- Only the features are scaled.\n",
    "- Scaling the target is generally not needed, especially for models like linear regression."
   ]
  },
  {
   "cell_type": "markdown",
   "id": "5f7b78c5-749a-4690-b533-b63374855c32",
   "metadata": {},
   "source": [
    "<div style=\"color: red; padding: 10px;\">\n",
    "    <h3>Create / Fit / Evaluate the Models:</h3>\n",
    "</div>"
   ]
  },
  {
   "cell_type": "code",
   "execution_count": null,
   "id": "ec5e04eb-c9c0-4601-ad9f-46680c978a87",
   "metadata": {},
   "outputs": [],
   "source": [
    "def train_and_evaluate(features_train, features_valid, target_train, target_valid):\n",
    "    # Initialize the model\n",
    "    model = LinearRegression()\n",
    "    \n",
    "    # Train the model\n",
    "    model.fit(features_train, target_train)\n",
    "\n",
    "    # Predict on the validation set\n",
    "    predictions = model.predict(features_valid)\n",
    "\n",
    "    # Calculate RMSE\n",
    "    rmse = np.sqrt(mean_squared_error(target_valid, predictions))\n",
    "\n",
    "    # Calculate the average volume of predicted reserves\n",
    "    avg_reserves = np.mean(predictions)\n",
    "    \n",
    "    # Return the model and the RMSE\n",
    "    return model, rmse, avg_reserves, predictions"
   ]
  },
  {
   "cell_type": "markdown",
   "id": "04a57487-1907-43c3-ad21-6ca97c5fd435",
   "metadata": {},
   "source": [
    "<div style=\"color: red; padding: 10px;\">\n",
    "    <h3>Call the Train / Evaluate function:</h3>\n",
    "</div>"
   ]
  },
  {
   "cell_type": "code",
   "execution_count": null,
   "id": "d9ca0a5d-0702-4dce-9640-d0ef221249e5",
   "metadata": {},
   "outputs": [],
   "source": [
    "# Train and evaluate region 1\n",
    "model1, rmse1, avg_reserves1, predictions1 = train_and_evaluate(features_train1_scaled, features_valid1_scaled, target_train1, target_valid1)\n",
    "print(f\"\\033[94mRegion 1 RMSE: {rmse1:.2f}\\nAverage Predicted Reserves: {avg_reserves1:.2f}\\033[0m\")"
   ]
  },
  {
   "cell_type": "code",
   "execution_count": null,
   "id": "b5215be4-8178-4c49-b39b-b63a279a35db",
   "metadata": {},
   "outputs": [],
   "source": [
    "region1.vol_reserves.max()"
   ]
  },
  {
   "cell_type": "code",
   "execution_count": null,
   "id": "2bd77e23-0726-4359-b231-735a459a7283",
   "metadata": {},
   "outputs": [],
   "source": [
    "# Train and evaluate region 2\n",
    "model2, rmse2, avg_reserves2, predictions2  = train_and_evaluate(features_train2_scaled, features_valid2_scaled, target_train2, target_valid2)\n",
    "print(colored(f\"Region 2 RMSE: {rmse2:.2f}\\nAverage Predicted Reserves: {avg_reserves2:.2f}\", 'green'))"
   ]
  },
  {
   "cell_type": "code",
   "execution_count": null,
   "id": "40110af3-0940-4446-a167-729513072fb9",
   "metadata": {},
   "outputs": [],
   "source": [
    "region2.vol_reserves.max()"
   ]
  },
  {
   "cell_type": "code",
   "execution_count": null,
   "id": "cb5621cd-7d29-4908-8962-669e8a9a85f9",
   "metadata": {},
   "outputs": [],
   "source": [
    "# Train and evaluate region 3\n",
    "model3, rmse3, avg_reserves3, predictions3 = train_and_evaluate(features_train3_scaled, features_valid3_scaled, target_train3, target_valid3)\n",
    "print(f\"\\033[38;5;208mRegion 3 RMSE: {rmse3:.2f}\\nAverage Predicted Reserves: {avg_reserves3:.2f}\\033[0m\")"
   ]
  },
  {
   "cell_type": "code",
   "execution_count": null,
   "id": "e82a1670-4dbf-411e-b76b-583c7baa1f15",
   "metadata": {},
   "outputs": [],
   "source": [
    "region3.vol_reserves.max()"
   ]
  },
  {
   "cell_type": "markdown",
   "id": "be98aa8c-cf0d-49d4-8571-aeec2de07f41",
   "metadata": {},
   "source": [
    "### RMSE outcomes(considering that the scale of the vol_reserves data is pretty low):\n",
    "\n",
    "- region 1's RMSE score, of 37.85 is poor. There is high error in the model.\n",
    "- region 2's RMSE score, of 0.89 is great. There is a very small error in the predictions.\n",
    "- region 3's RMSE score, of 40 is poor. There is high error in the model.\n",
    "\n",
    "### Predicted oil reserves outcome:\n",
    "\n",
    "- Region 1 and region3 have the highest level of predicted oil reserves.\n",
    "- Region 2 had the lowest predicted level of oil reserves."
   ]
  },
  {
   "cell_type": "markdown",
   "id": "f80b34d6-1ebe-4a7c-82f1-c20cf57674c4",
   "metadata": {},
   "source": [
    "<div style=\"color: red; padding: 10px;\">\n",
    "    <h3>Pick the top 200 wells, from each region, with the highest values of predictions:</h3>\n",
    "</div>"
   ]
  },
  {
   "cell_type": "code",
   "execution_count": null,
   "id": "ded093e8-0dab-4276-8186-1f16ba08d607",
   "metadata": {},
   "outputs": [],
   "source": [
    "#find the top 200 predictions for each set of predictions\n",
    "#take the predictions from the model for each region\n",
    "def get_top_n_predictions(predictions, top_n=200):\n",
    "    # sort the predictions in descending order\n",
    "    sorted_predictions = sorted(predictions, reverse=True)\n",
    "    \n",
    "    # get the top 200 predictions\n",
    "    top_predictions = sorted_predictions[:top_n]\n",
    "    return top_predictions"
   ]
  },
  {
   "cell_type": "code",
   "execution_count": null,
   "id": "c13be453-f692-4894-ac4c-ad3c41e42b82",
   "metadata": {},
   "outputs": [],
   "source": [
    "# Call the get_top_n_predictions function for each region \n",
    "top_n = 200\n",
    "top_wells_high_val_pred1 = get_top_n_predictions(predictions1, top_n)\n",
    "top_wells_high_val_pred2 = get_top_n_predictions(predictions2, top_n)\n",
    "top_wells_high_val_pred3 = get_top_n_predictions(predictions3, top_n)"
   ]
  },
  {
   "cell_type": "code",
   "execution_count": null,
   "id": "1f94913b-ab86-4b68-a8e9-86aa19005a0f",
   "metadata": {},
   "outputs": [],
   "source": [
    "print(top_wells_high_val_pred1[:20])"
   ]
  },
  {
   "cell_type": "code",
   "execution_count": null,
   "id": "a850277b-e284-4fcb-8206-f09d1ad317c5",
   "metadata": {},
   "outputs": [],
   "source": [
    "print(min(top_wells_high_val_pred1))"
   ]
  },
  {
   "cell_type": "code",
   "execution_count": null,
   "id": "111ed2aa-bc40-47f6-9561-a58e1ebf6dea",
   "metadata": {},
   "outputs": [],
   "source": [
    "print(top_wells_high_val_pred2[:20])"
   ]
  },
  {
   "cell_type": "code",
   "execution_count": null,
   "id": "6ef972e8-a463-4aad-aa48-78b0de89e073",
   "metadata": {},
   "outputs": [],
   "source": [
    "print(min(top_wells_high_val_pred2))"
   ]
  },
  {
   "cell_type": "code",
   "execution_count": null,
   "id": "e8809074-57a3-4215-9649-2a6835d89919",
   "metadata": {},
   "outputs": [],
   "source": [
    "print(top_wells_high_val_pred3[:20])"
   ]
  },
  {
   "cell_type": "code",
   "execution_count": null,
   "id": "118c344f-e6c8-491c-82f4-484ef760ce60",
   "metadata": {},
   "outputs": [],
   "source": [
    "print(min(top_wells_high_val_pred3))"
   ]
  },
  {
   "cell_type": "markdown",
   "id": "14c3a197-b32a-4123-b40b-92a4b0e70cc7",
   "metadata": {},
   "source": [
    "<div style=\"color: red; padding: 10px;\">\n",
    "    <h3>Calculate the volume of reserves sufficient for developing 200 new wells without losses.:</h3>\n",
    "</div>"
   ]
  },
  {
   "cell_type": "code",
   "execution_count": null,
   "id": "24e4ae45-1334-4c6d-9828-be233025e77b",
   "metadata": {},
   "outputs": [],
   "source": [
    "# budget for 200 wells, in USD\n",
    "budget_total = 100000000  \n",
    "\n",
    "number_of_wells = 200\n",
    "\n",
    "#budget is for 200 wells\n",
    "budget_per_oil_well = budget_total / 200  \n",
    "print(\"Budget per oil well: \" + str(budget_per_oil_well))\n",
    "\n",
    "rev_per_barrel = 4.5\n",
    "rev_per_oil_well = rev_per_barrel * 1000\n",
    "print(\"Revenue per oil well: \" + str(rev_per_oil_well))"
   ]
  },
  {
   "cell_type": "code",
   "execution_count": null,
   "id": "d6406746-dc26-4822-a50b-86314e21fc46",
   "metadata": {},
   "outputs": [],
   "source": [
    "min_reserve_vol = budget_total / rev_per_oil_well / number_of_wells\n",
    "\n",
    "print(f\"Minimum average volume of reserves for development without losses: {min_reserve_vol:,.2f} (per project oil well)\")"
   ]
  },
  {
   "cell_type": "markdown",
   "id": "5cf382e2-17d7-4c43-a82d-815c1b293b80",
   "metadata": {},
   "source": [
    "#### All 3 regions's top 200 predicted oil wells meet the required minimum ( of 111.11 volume of reserves )"
   ]
  },
  {
   "cell_type": "markdown",
   "id": "8e8adf72-2b11-4cf5-932e-23461831a5a6",
   "metadata": {},
   "source": [
    "<div style=\"color: red; padding: 10px;\">\n",
    "    <h3>Profit Calculation:</h3>\n",
    "</div>"
   ]
  },
  {
   "cell_type": "code",
   "execution_count": null,
   "id": "75849782-835e-47fb-9ff8-82c815c868e5",
   "metadata": {},
   "outputs": [],
   "source": [
    "pred_reserves = [avg_reserves1, avg_reserves2, avg_reserves3]"
   ]
  },
  {
   "cell_type": "code",
   "execution_count": null,
   "id": "6f72a1d6-0578-422f-92e7-c6a9da08c27e",
   "metadata": {},
   "outputs": [],
   "source": [
    "targets = [target_valid1, target_valid2, target_valid3]"
   ]
  },
  {
   "cell_type": "code",
   "execution_count": null,
   "id": "8e273996-1b10-470f-bf88-8110c7dfc7c0",
   "metadata": {},
   "outputs": [],
   "source": [
    "def profit(predictions, target, budget=100_000_000, total_wells=500, top_wells=200, price_per_barrel=4.5):\n",
    "    # Number of predictions and target values should match\n",
    "    assert len(predictions) == len(target)\n",
    "\n",
    "    # Sort the predictions and select the top \"top_wells\" predictions\n",
    "    sorted_indices = np.argsort(predictions)[-top_wells:]\n",
    "\n",
    "    # Summarize the target values for these top predictions\n",
    "    selected_product = target[sorted_indices]\n",
    "    \n",
    "    # Summarize the total volume of reserves from selected wells\n",
    "    total_volume = selected_product.sum()\n",
    "    \n",
    "    # Calculate profit\n",
    "    revenue = total_volume * price_per_barrel * 1000  # converting thousand barrels to barrels\n",
    "    profit = revenue - budget  # budget is the cost of developing the wells\n",
    "\n",
    "    return profit "
   ]
  },
  {
   "cell_type": "markdown",
   "id": "bc3127b5-573e-4a67-b61e-ba0382bae90c",
   "metadata": {},
   "source": [
    "<div style=\"color: red; padding: 10px;\">\n",
    "    <h3>Call the Profit function:</h3>\n",
    "</div>"
   ]
  },
  {
   "cell_type": "code",
   "execution_count": null,
   "id": "26cdf319-cccd-4b1f-a6eb-2e2c9ce1f6f9",
   "metadata": {},
   "outputs": [],
   "source": [
    "profit_region1 = profit(predictions1, target_valid1)"
   ]
  },
  {
   "cell_type": "code",
   "execution_count": null,
   "id": "d5758e79-ede7-4577-ab64-b860f3f80bdb",
   "metadata": {},
   "outputs": [],
   "source": []
  }
 ],
 "metadata": {
  "kernelspec": {
   "display_name": "Python 3 (ipykernel)",
   "language": "python",
   "name": "python3"
  },
  "language_info": {
   "codemirror_mode": {
    "name": "ipython",
    "version": 3
   },
   "file_extension": ".py",
   "mimetype": "text/x-python",
   "name": "python",
   "nbconvert_exporter": "python",
   "pygments_lexer": "ipython3",
   "version": "3.11.7"
  }
 },
 "nbformat": 4,
 "nbformat_minor": 5
}
