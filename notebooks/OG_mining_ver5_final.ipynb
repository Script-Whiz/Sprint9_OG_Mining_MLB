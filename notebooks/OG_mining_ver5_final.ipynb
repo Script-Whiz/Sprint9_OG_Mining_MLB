{
 "cells": [
  {
   "cell_type": "markdown",
   "id": "74f049a7-86ad-48c6-9ea4-9dd5d232aac7",
   "metadata": {},
   "source": [
    "Hello Deborah!\n",
    "\n",
    "I’m happy to review your project today.\n",
    "I will mark your mistakes and give you some hints how it is possible to fix them. We are getting ready for real job, where your team leader/senior colleague will do exactly the same. Don't worry and study with pleasure! \n",
    "\n",
    "Below you will find my comments - **please do not move, modify or delete them**.\n",
    "\n",
    "You can find my comments in green, yellow or red boxes like this:\n",
    "\n",
    "<div class=\"alert alert-block alert-success\">\n",
    "<b>Reviewer's comment</b> <a class=\"tocSkip\"></a>\n",
    "\n",
    "Success. Everything is done succesfully.\n",
    "</div>\n",
    "\n",
    "<div class=\"alert alert-block alert-warning\">\n",
    "<b>Reviewer's comment</b> <a class=\"tocSkip\"></a>\n",
    "\n",
    "Remarks. Some recommendations.\n",
    "</div>\n",
    "\n",
    "<div class=\"alert alert-block alert-danger\">\n",
    "\n",
    "<b>Reviewer's comment</b> <a class=\"tocSkip\"></a>\n",
    "\n",
    "Needs fixing. The block requires some corrections. Work can't be accepted with the red comments.\n",
    "</div>\n",
    "\n",
    "You can answer me by using this:\n",
    "\n",
    "<div class=\"alert alert-block alert-info\">\n",
    "<b>Student answer.</b> <a class=\"tocSkip\"></a>\n",
    "\n",
    "Thank you so much for the feedback, I appreacaite it! I should have double checked before submitting. Thanks! \n",
    "</div>\n"
   ]
  },
  {
   "cell_type": "markdown",
   "id": "66f80f3f-2a93-4e06-9e98-deb05f4f50d4",
   "metadata": {},
   "source": [
    "<div class=\"alert alert-block alert-info\">\n",
    "<b>Deb's answer. #1 : </b> <a class=\"tocSkip\"></a>\n",
    "\n",
    "Thank you for the feedback. I have changed the bootstrapping function so that, when it is called, it now sends the originally trained model (one for each region), so the model gets trained one time only. Thank you for telling me about that. I am new to bootstrapping. Also, the confidence interval results are now different because of that. Also, I am now only sampling 500 \"points\", inside the bootstrapping function, and now the probability loss ouputs much lower numbers.\n",
    "</div>"
   ]
  },
  {
   "cell_type": "markdown",
   "id": "92cef5ba",
   "metadata": {},
   "source": [
    "<div class=\"alert alert-success\">\n",
    "<b>Reviewer's comment V2</b>\n",
    "\n",
    "Now the results are correct. Well done! But why there is no suggested region? Region 2 has a risk lower than 2.5%. This is the main criteria to suggest the region. So, you need to modify the logic for suggesting to pick the region 2 as a best region.\n",
    "\n",
    "</div>"
   ]
  },
  {
   "cell_type": "markdown",
   "id": "d358d65d-8518-40e9-9d76-56180b8f8768",
   "metadata": {},
   "source": [
    "# Oily Giant Mining; Geological Exploration, by Deborah Thomas"
   ]
  },
  {
   "cell_type": "markdown",
   "id": "f8141d32-ce81-479a-a158-defcc2034e41",
   "metadata": {},
   "source": [
    "### Data Mining Study of Three Geographical Regions\n",
    "#### Objective:\n",
    "This data mining study will evaluate three of Oily Giant's geographical regions to determine the best site for 200 new wells.\n",
    "#### Goals:\n",
    "1. **Profit Margin**:\n",
    "   - Identify which geographical region has the highest profit margin.\n",
    "2. **Revenue Prediction**:\n",
    "   - Estimate the revenue for these 200 new wells.\n",
    "3. **Profitability Threshold**:\n",
    "   - Determine the minimum volume of oil necessary to make a profit.\n",
    "#### Approach:\n",
    "- **Data Analysis**:\n",
    "  - Study existing oil quality and volume of reserves in each geographical region.\n",
    " \n",
    "- **Predictive Modeling**:\n",
    "  - Build a predictive model to identify the geographic location with the highest profit potential.\n",
    "  - Predict the volume of reserves for the new 200 wells.\n",
    "- **Risk Evaluation**:\n",
    "  - Use bootstrapping to find the confidence interval for the predictions.\n",
    "  - Evaluate the risk of losses ensuring that the risk is no greater than 2.5%.\n",
    "#### Methodology:\n",
    "1. **Data Collection**:\n",
    "   - Gather data on oil quality and reserve volumes for the three regions.\n",
    " \n",
    "2. **Model Training**:\n",
    "   - Train a predictive model based on the collected data.\n",
    "3. **Profit Calculation**:\n",
    "   - Calculate the potential profit for each region based on the model's predictions.\n",
    "4. **Risk Assessment**:\n",
    "   - Perform bootstrapping to evaluate the risk of losses.\n",
    "5. **Decision Making**:\n",
    "   - Recommend the best geographical region for the new wells based on profit potential and risk assessment."
   ]
  },
  {
   "cell_type": "markdown",
   "id": "95eda14e-3efd-490e-99ad-82b2ad2f5c0c",
   "metadata": {},
   "source": [
    "## <div style=\"color: red; border: 2px solid yellow; display: inline-block;\">Import libraries</div>"
   ]
  },
  {
   "cell_type": "code",
   "execution_count": 7,
   "id": "b2549031-226e-4425-a2c3-2ce9ab0655f4",
   "metadata": {},
   "outputs": [],
   "source": [
    "import pandas as pd\n",
    "import numpy as np\n",
    "\n",
    "from sklearn.model_selection import train_test_split\n",
    "\n",
    "from sklearn.linear_model import LinearRegression\n",
    "from sklearn.metrics import mean_squared_error\n",
    "from sklearn.preprocessing import StandardScaler\n",
    "\n",
    "from sklearn.utils import resample\n",
    "\n",
    "from IPython.display import display, HTML\n",
    "\n",
    "import matplotlib.pyplot as plt\n",
    "\n",
    "import plotly.graph_objects as go\n",
    "import plotly.io as pio\n",
    "\n",
    "from termcolor import colored"
   ]
  },
  {
   "cell_type": "markdown",
   "id": "48b45dc8-633f-41cb-b289-3a2674cbb17e",
   "metadata": {},
   "source": [
    "## <div style=\"color: red; border: 2px solid yellow; display: inline-block;\">Load in 3 datasets:</div>"
   ]
  },
  {
   "cell_type": "markdown",
   "id": "cd2ea6dc-b08c-4e14-b34b-9192b8947023",
   "metadata": {},
   "source": [
    "### ( 1 dataset for each region )"
   ]
  },
  {
   "cell_type": "code",
   "execution_count": 10,
   "id": "83650770-d328-4591-a56c-dbbd7236b850",
   "metadata": {},
   "outputs": [
    {
     "data": {
      "text/html": [
       "<div>\n",
       "<style scoped>\n",
       "    .dataframe tbody tr th:only-of-type {\n",
       "        vertical-align: middle;\n",
       "    }\n",
       "\n",
       "    .dataframe tbody tr th {\n",
       "        vertical-align: top;\n",
       "    }\n",
       "\n",
       "    .dataframe thead th {\n",
       "        text-align: right;\n",
       "    }\n",
       "</style>\n",
       "<table border=\"1\" class=\"dataframe\">\n",
       "  <thead>\n",
       "    <tr style=\"text-align: right;\">\n",
       "      <th></th>\n",
       "      <th>id</th>\n",
       "      <th>f0</th>\n",
       "      <th>f1</th>\n",
       "      <th>f2</th>\n",
       "      <th>product</th>\n",
       "    </tr>\n",
       "  </thead>\n",
       "  <tbody>\n",
       "    <tr>\n",
       "      <th>0</th>\n",
       "      <td>txEyH</td>\n",
       "      <td>0.705745</td>\n",
       "      <td>-0.497823</td>\n",
       "      <td>1.221170</td>\n",
       "      <td>105.280062</td>\n",
       "    </tr>\n",
       "    <tr>\n",
       "      <th>1</th>\n",
       "      <td>2acmU</td>\n",
       "      <td>1.334711</td>\n",
       "      <td>-0.340164</td>\n",
       "      <td>4.365080</td>\n",
       "      <td>73.037750</td>\n",
       "    </tr>\n",
       "    <tr>\n",
       "      <th>2</th>\n",
       "      <td>409Wp</td>\n",
       "      <td>1.022732</td>\n",
       "      <td>0.151990</td>\n",
       "      <td>1.419926</td>\n",
       "      <td>85.265647</td>\n",
       "    </tr>\n",
       "    <tr>\n",
       "      <th>3</th>\n",
       "      <td>iJLyR</td>\n",
       "      <td>-0.032172</td>\n",
       "      <td>0.139033</td>\n",
       "      <td>2.978566</td>\n",
       "      <td>168.620776</td>\n",
       "    </tr>\n",
       "    <tr>\n",
       "      <th>4</th>\n",
       "      <td>Xdl7t</td>\n",
       "      <td>1.988431</td>\n",
       "      <td>0.155413</td>\n",
       "      <td>4.751769</td>\n",
       "      <td>154.036647</td>\n",
       "    </tr>\n",
       "    <tr>\n",
       "      <th>5</th>\n",
       "      <td>wX4Hy</td>\n",
       "      <td>0.969570</td>\n",
       "      <td>0.489775</td>\n",
       "      <td>-0.735383</td>\n",
       "      <td>64.741541</td>\n",
       "    </tr>\n",
       "    <tr>\n",
       "      <th>6</th>\n",
       "      <td>tL6pL</td>\n",
       "      <td>0.645075</td>\n",
       "      <td>0.530656</td>\n",
       "      <td>1.780266</td>\n",
       "      <td>49.055285</td>\n",
       "    </tr>\n",
       "    <tr>\n",
       "      <th>7</th>\n",
       "      <td>BYPU6</td>\n",
       "      <td>-0.400648</td>\n",
       "      <td>0.808337</td>\n",
       "      <td>-5.624670</td>\n",
       "      <td>72.943292</td>\n",
       "    </tr>\n",
       "    <tr>\n",
       "      <th>8</th>\n",
       "      <td>j9Oui</td>\n",
       "      <td>0.643105</td>\n",
       "      <td>-0.551583</td>\n",
       "      <td>2.372141</td>\n",
       "      <td>113.356160</td>\n",
       "    </tr>\n",
       "    <tr>\n",
       "      <th>9</th>\n",
       "      <td>OLuZU</td>\n",
       "      <td>2.173381</td>\n",
       "      <td>0.563698</td>\n",
       "      <td>9.441852</td>\n",
       "      <td>127.910945</td>\n",
       "    </tr>\n",
       "  </tbody>\n",
       "</table>\n",
       "</div>"
      ],
      "text/plain": [
       "      id        f0        f1        f2     product\n",
       "0  txEyH  0.705745 -0.497823  1.221170  105.280062\n",
       "1  2acmU  1.334711 -0.340164  4.365080   73.037750\n",
       "2  409Wp  1.022732  0.151990  1.419926   85.265647\n",
       "3  iJLyR -0.032172  0.139033  2.978566  168.620776\n",
       "4  Xdl7t  1.988431  0.155413  4.751769  154.036647\n",
       "5  wX4Hy  0.969570  0.489775 -0.735383   64.741541\n",
       "6  tL6pL  0.645075  0.530656  1.780266   49.055285\n",
       "7  BYPU6 -0.400648  0.808337 -5.624670   72.943292\n",
       "8  j9Oui  0.643105 -0.551583  2.372141  113.356160\n",
       "9  OLuZU  2.173381  0.563698  9.441852  127.910945"
      ]
     },
     "metadata": {},
     "output_type": "display_data"
    }
   ],
   "source": [
    "try:\n",
    "    region1 = pd.read_csv('/datasets/geo_data_0.csv')  # Attempt to read from the server path\n",
    "except FileNotFoundError:\n",
    "    region1 = pd.read_csv('../datasets/geo_data_0.csv')  # Fallback to the local path\n",
    "\n",
    "\n",
    "display(region1.head(10))"
   ]
  },
  {
   "cell_type": "code",
   "execution_count": 11,
   "id": "c16fb57a-2f4f-47c1-b244-c51d1eec051b",
   "metadata": {},
   "outputs": [
    {
     "data": {
      "text/html": [
       "<div>\n",
       "<style scoped>\n",
       "    .dataframe tbody tr th:only-of-type {\n",
       "        vertical-align: middle;\n",
       "    }\n",
       "\n",
       "    .dataframe tbody tr th {\n",
       "        vertical-align: top;\n",
       "    }\n",
       "\n",
       "    .dataframe thead th {\n",
       "        text-align: right;\n",
       "    }\n",
       "</style>\n",
       "<table border=\"1\" class=\"dataframe\">\n",
       "  <thead>\n",
       "    <tr style=\"text-align: right;\">\n",
       "      <th></th>\n",
       "      <th>id</th>\n",
       "      <th>f0</th>\n",
       "      <th>f1</th>\n",
       "      <th>f2</th>\n",
       "      <th>product</th>\n",
       "    </tr>\n",
       "  </thead>\n",
       "  <tbody>\n",
       "    <tr>\n",
       "      <th>0</th>\n",
       "      <td>kBEdx</td>\n",
       "      <td>-15.001348</td>\n",
       "      <td>-8.276000</td>\n",
       "      <td>-0.005876</td>\n",
       "      <td>3.179103</td>\n",
       "    </tr>\n",
       "    <tr>\n",
       "      <th>1</th>\n",
       "      <td>62mP7</td>\n",
       "      <td>14.272088</td>\n",
       "      <td>-3.475083</td>\n",
       "      <td>0.999183</td>\n",
       "      <td>26.953261</td>\n",
       "    </tr>\n",
       "    <tr>\n",
       "      <th>2</th>\n",
       "      <td>vyE1P</td>\n",
       "      <td>6.263187</td>\n",
       "      <td>-5.948386</td>\n",
       "      <td>5.001160</td>\n",
       "      <td>134.766305</td>\n",
       "    </tr>\n",
       "    <tr>\n",
       "      <th>3</th>\n",
       "      <td>KcrkZ</td>\n",
       "      <td>-13.081196</td>\n",
       "      <td>-11.506057</td>\n",
       "      <td>4.999415</td>\n",
       "      <td>137.945408</td>\n",
       "    </tr>\n",
       "    <tr>\n",
       "      <th>4</th>\n",
       "      <td>AHL4O</td>\n",
       "      <td>12.702195</td>\n",
       "      <td>-8.147433</td>\n",
       "      <td>5.004363</td>\n",
       "      <td>134.766305</td>\n",
       "    </tr>\n",
       "    <tr>\n",
       "      <th>5</th>\n",
       "      <td>HHckp</td>\n",
       "      <td>-3.327590</td>\n",
       "      <td>-2.205276</td>\n",
       "      <td>3.003647</td>\n",
       "      <td>84.038886</td>\n",
       "    </tr>\n",
       "    <tr>\n",
       "      <th>6</th>\n",
       "      <td>h5Ujo</td>\n",
       "      <td>-11.142655</td>\n",
       "      <td>-10.133399</td>\n",
       "      <td>4.002382</td>\n",
       "      <td>110.992147</td>\n",
       "    </tr>\n",
       "    <tr>\n",
       "      <th>7</th>\n",
       "      <td>muH9x</td>\n",
       "      <td>4.234715</td>\n",
       "      <td>-0.001354</td>\n",
       "      <td>2.004588</td>\n",
       "      <td>53.906522</td>\n",
       "    </tr>\n",
       "    <tr>\n",
       "      <th>8</th>\n",
       "      <td>YiRkx</td>\n",
       "      <td>13.355129</td>\n",
       "      <td>-0.332068</td>\n",
       "      <td>4.998647</td>\n",
       "      <td>134.766305</td>\n",
       "    </tr>\n",
       "    <tr>\n",
       "      <th>9</th>\n",
       "      <td>jG6Gi</td>\n",
       "      <td>1.069227</td>\n",
       "      <td>-11.025667</td>\n",
       "      <td>4.997844</td>\n",
       "      <td>137.945408</td>\n",
       "    </tr>\n",
       "  </tbody>\n",
       "</table>\n",
       "</div>"
      ],
      "text/plain": [
       "      id         f0         f1        f2     product\n",
       "0  kBEdx -15.001348  -8.276000 -0.005876    3.179103\n",
       "1  62mP7  14.272088  -3.475083  0.999183   26.953261\n",
       "2  vyE1P   6.263187  -5.948386  5.001160  134.766305\n",
       "3  KcrkZ -13.081196 -11.506057  4.999415  137.945408\n",
       "4  AHL4O  12.702195  -8.147433  5.004363  134.766305\n",
       "5  HHckp  -3.327590  -2.205276  3.003647   84.038886\n",
       "6  h5Ujo -11.142655 -10.133399  4.002382  110.992147\n",
       "7  muH9x   4.234715  -0.001354  2.004588   53.906522\n",
       "8  YiRkx  13.355129  -0.332068  4.998647  134.766305\n",
       "9  jG6Gi   1.069227 -11.025667  4.997844  137.945408"
      ]
     },
     "metadata": {},
     "output_type": "display_data"
    }
   ],
   "source": [
    "try:\n",
    "    region2 = pd.read_csv('/datasets/geo_data_1.csv')  # Attempt to read from the server path\n",
    "except FileNotFoundError:\n",
    "    region2 = pd.read_csv('../datasets/geo_data_1.csv')  # Fallback to the local path\n",
    "\n",
    "\n",
    "display(region2.head(10))"
   ]
  },
  {
   "cell_type": "code",
   "execution_count": 12,
   "id": "3fe87e15-134c-43bf-bcfc-103bf053cfbd",
   "metadata": {},
   "outputs": [
    {
     "data": {
      "text/html": [
       "<div>\n",
       "<style scoped>\n",
       "    .dataframe tbody tr th:only-of-type {\n",
       "        vertical-align: middle;\n",
       "    }\n",
       "\n",
       "    .dataframe tbody tr th {\n",
       "        vertical-align: top;\n",
       "    }\n",
       "\n",
       "    .dataframe thead th {\n",
       "        text-align: right;\n",
       "    }\n",
       "</style>\n",
       "<table border=\"1\" class=\"dataframe\">\n",
       "  <thead>\n",
       "    <tr style=\"text-align: right;\">\n",
       "      <th></th>\n",
       "      <th>id</th>\n",
       "      <th>f0</th>\n",
       "      <th>f1</th>\n",
       "      <th>f2</th>\n",
       "      <th>product</th>\n",
       "    </tr>\n",
       "  </thead>\n",
       "  <tbody>\n",
       "    <tr>\n",
       "      <th>0</th>\n",
       "      <td>fwXo0</td>\n",
       "      <td>-1.146987</td>\n",
       "      <td>0.963328</td>\n",
       "      <td>-0.828965</td>\n",
       "      <td>27.758673</td>\n",
       "    </tr>\n",
       "    <tr>\n",
       "      <th>1</th>\n",
       "      <td>WJtFt</td>\n",
       "      <td>0.262778</td>\n",
       "      <td>0.269839</td>\n",
       "      <td>-2.530187</td>\n",
       "      <td>56.069697</td>\n",
       "    </tr>\n",
       "    <tr>\n",
       "      <th>2</th>\n",
       "      <td>ovLUW</td>\n",
       "      <td>0.194587</td>\n",
       "      <td>0.289035</td>\n",
       "      <td>-5.586433</td>\n",
       "      <td>62.871910</td>\n",
       "    </tr>\n",
       "    <tr>\n",
       "      <th>3</th>\n",
       "      <td>q6cA6</td>\n",
       "      <td>2.236060</td>\n",
       "      <td>-0.553760</td>\n",
       "      <td>0.930038</td>\n",
       "      <td>114.572842</td>\n",
       "    </tr>\n",
       "    <tr>\n",
       "      <th>4</th>\n",
       "      <td>WPMUX</td>\n",
       "      <td>-0.515993</td>\n",
       "      <td>1.716266</td>\n",
       "      <td>5.899011</td>\n",
       "      <td>149.600746</td>\n",
       "    </tr>\n",
       "    <tr>\n",
       "      <th>5</th>\n",
       "      <td>LzZXx</td>\n",
       "      <td>-0.758092</td>\n",
       "      <td>0.710691</td>\n",
       "      <td>2.585887</td>\n",
       "      <td>90.222465</td>\n",
       "    </tr>\n",
       "    <tr>\n",
       "      <th>6</th>\n",
       "      <td>WBHRv</td>\n",
       "      <td>-0.574891</td>\n",
       "      <td>0.317727</td>\n",
       "      <td>1.773745</td>\n",
       "      <td>45.641478</td>\n",
       "    </tr>\n",
       "    <tr>\n",
       "      <th>7</th>\n",
       "      <td>XO8fn</td>\n",
       "      <td>-1.906649</td>\n",
       "      <td>-2.458350</td>\n",
       "      <td>-0.177097</td>\n",
       "      <td>72.480640</td>\n",
       "    </tr>\n",
       "    <tr>\n",
       "      <th>8</th>\n",
       "      <td>ybmQ5</td>\n",
       "      <td>1.776292</td>\n",
       "      <td>-0.279356</td>\n",
       "      <td>3.004156</td>\n",
       "      <td>106.616832</td>\n",
       "    </tr>\n",
       "    <tr>\n",
       "      <th>9</th>\n",
       "      <td>OilcN</td>\n",
       "      <td>-1.214452</td>\n",
       "      <td>-0.439314</td>\n",
       "      <td>5.922514</td>\n",
       "      <td>52.954532</td>\n",
       "    </tr>\n",
       "  </tbody>\n",
       "</table>\n",
       "</div>"
      ],
      "text/plain": [
       "      id        f0        f1        f2     product\n",
       "0  fwXo0 -1.146987  0.963328 -0.828965   27.758673\n",
       "1  WJtFt  0.262778  0.269839 -2.530187   56.069697\n",
       "2  ovLUW  0.194587  0.289035 -5.586433   62.871910\n",
       "3  q6cA6  2.236060 -0.553760  0.930038  114.572842\n",
       "4  WPMUX -0.515993  1.716266  5.899011  149.600746\n",
       "5  LzZXx -0.758092  0.710691  2.585887   90.222465\n",
       "6  WBHRv -0.574891  0.317727  1.773745   45.641478\n",
       "7  XO8fn -1.906649 -2.458350 -0.177097   72.480640\n",
       "8  ybmQ5  1.776292 -0.279356  3.004156  106.616832\n",
       "9  OilcN -1.214452 -0.439314  5.922514   52.954532"
      ]
     },
     "metadata": {},
     "output_type": "display_data"
    }
   ],
   "source": [
    "try:\n",
    "    region3 = pd.read_csv('/datasets/geo_data_2.csv')  # Attempt to read from the server path\n",
    "except FileNotFoundError:\n",
    "    region3 = pd.read_csv('../datasets/geo_data_2.csv')  # Fallback to the local path\n",
    "\n",
    "\n",
    "display(region3.head(10))"
   ]
  },
  {
   "cell_type": "markdown",
   "id": "53c92bd5-bbd0-454d-ba14-cfd8f2c621f7",
   "metadata": {},
   "source": [
    "### Explanation of the columns :\n",
    "- id: unique oil well identifier\n",
    "- f0, f1, f2: three features of points\n",
    "- product: volume of reserves in the oil well (per thousand barrels)."
   ]
  },
  {
   "cell_type": "markdown",
   "id": "6b8375d3-ce2e-4a7c-abe2-fc5cfa1e29d4",
   "metadata": {},
   "source": [
    "### Explanation of value of each unit:\n",
    "\n",
    "- 1 barrel\\'s worth = \\$4.50 USD.\n",
    "- 1 unit = 1,000 barrels\n",
    "- 1 unit's worth = **\\$4.50** times 1,000 = **\\$4,500 USD**"
   ]
  },
  {
   "cell_type": "code",
   "execution_count": 15,
   "id": "1dcda4f6-6dbd-451c-b5d0-c2844bb26b1c",
   "metadata": {},
   "outputs": [
    {
     "name": "stdout",
     "output_type": "stream",
     "text": [
      "Region 1 dataset:\n",
      "(100000, 5)\n"
     ]
    }
   ],
   "source": [
    "print(\"Region 1 dataset:\")\n",
    "print(region1.shape)"
   ]
  },
  {
   "cell_type": "code",
   "execution_count": 16,
   "id": "c799d8c9-7ab7-47a6-902a-4b68d3e48c93",
   "metadata": {},
   "outputs": [
    {
     "name": "stdout",
     "output_type": "stream",
     "text": [
      "Region 2 dataset:\n",
      "(100000, 5)\n"
     ]
    }
   ],
   "source": [
    "print(\"Region 2 dataset:\")\n",
    "print(region2.shape)"
   ]
  },
  {
   "cell_type": "code",
   "execution_count": 17,
   "id": "3307d868-1f54-498f-9857-e05adb244a3f",
   "metadata": {},
   "outputs": [
    {
     "name": "stdout",
     "output_type": "stream",
     "text": [
      "Region 3 dataset:\n",
      "(100000, 5)\n"
     ]
    }
   ],
   "source": [
    "print(\"Region 3 dataset:\")\n",
    "print(region3.shape)"
   ]
  },
  {
   "cell_type": "markdown",
   "id": "4cdcf209-1cab-49a0-91c8-6a18edbf0226",
   "metadata": {},
   "source": [
    "#### All 3 datasets have the same amount of rows and columns."
   ]
  },
  {
   "cell_type": "markdown",
   "id": "6af29b2c-d7b4-4cb1-894a-e74f0275ec2b",
   "metadata": {},
   "source": [
    "## <div style=\"color: red; border: 2px solid yellow; display: inline-block;\">Clean the Data</div>"
   ]
  },
  {
   "cell_type": "code",
   "execution_count": 20,
   "id": "2c5e64cd-8ea7-4dd3-9536-f2c925eefeac",
   "metadata": {},
   "outputs": [
    {
     "name": "stdout",
     "output_type": "stream",
     "text": [
      "<class 'pandas.core.frame.DataFrame'>\n",
      "RangeIndex: 100000 entries, 0 to 99999\n",
      "Data columns (total 5 columns):\n",
      " #   Column   Non-Null Count   Dtype  \n",
      "---  ------   --------------   -----  \n",
      " 0   id       100000 non-null  object \n",
      " 1   f0       100000 non-null  float64\n",
      " 2   f1       100000 non-null  float64\n",
      " 3   f2       100000 non-null  float64\n",
      " 4   product  100000 non-null  float64\n",
      "dtypes: float64(4), object(1)\n",
      "memory usage: 3.8+ MB\n"
     ]
    }
   ],
   "source": [
    "region1.info()"
   ]
  },
  {
   "cell_type": "markdown",
   "id": "71c1e530-2d10-4220-bb88-33e12b536bc2",
   "metadata": {},
   "source": [
    "### Rename columns:"
   ]
  },
  {
   "cell_type": "markdown",
   "id": "957a113d-b629-436a-ad23-48dac13a90b3",
   "metadata": {},
   "source": [
    "#### Change 'id' to 'well_id' to make it clear that each row represents one well.  Change 'products' to 'vol_reseres' to make it clear that this column is the total volume of reserves."
   ]
  },
  {
   "cell_type": "code",
   "execution_count": 23,
   "id": "61d53cbc-3604-4380-a5e8-b60dbf48a416",
   "metadata": {},
   "outputs": [],
   "source": [
    "region1.rename(columns={\n",
    "    'id': 'well_id',\n",
    "    'product': 'vol_reserves'\n",
    "}, inplace=True)"
   ]
  },
  {
   "cell_type": "code",
   "execution_count": 24,
   "id": "e3d9e95a-a7ce-468e-a82b-d6f5bac0d0cf",
   "metadata": {},
   "outputs": [
    {
     "data": {
      "text/plain": [
       "Index(['well_id', 'f0', 'f1', 'f2', 'vol_reserves'], dtype='object')"
      ]
     },
     "execution_count": 24,
     "metadata": {},
     "output_type": "execute_result"
    }
   ],
   "source": [
    "region1.columns"
   ]
  },
  {
   "cell_type": "code",
   "execution_count": 25,
   "id": "82de2524-4d06-4fa2-a4f6-4987f14bb71c",
   "metadata": {},
   "outputs": [],
   "source": [
    "region2.rename(columns={\n",
    "    'id': 'well_id',\n",
    "    'product': 'vol_reserves'\n",
    "}, inplace=True)"
   ]
  },
  {
   "cell_type": "code",
   "execution_count": 26,
   "id": "5163b78e-4c22-44f9-a422-ae3151ab511b",
   "metadata": {},
   "outputs": [
    {
     "data": {
      "text/plain": [
       "Index(['well_id', 'f0', 'f1', 'f2', 'vol_reserves'], dtype='object')"
      ]
     },
     "execution_count": 26,
     "metadata": {},
     "output_type": "execute_result"
    }
   ],
   "source": [
    "region2.columns"
   ]
  },
  {
   "cell_type": "code",
   "execution_count": 27,
   "id": "9f1dda33-befb-49d0-891a-58f264a8aab7",
   "metadata": {},
   "outputs": [],
   "source": [
    "region3.rename(columns={\n",
    "    'id': 'well_id',\n",
    "    'product': 'vol_reserves'\n",
    "}, inplace=True)"
   ]
  },
  {
   "cell_type": "code",
   "execution_count": 28,
   "id": "e22bfd7d-3582-4900-b748-00636dc1e003",
   "metadata": {},
   "outputs": [
    {
     "data": {
      "text/plain": [
       "Index(['well_id', 'f0', 'f1', 'f2', 'vol_reserves'], dtype='object')"
      ]
     },
     "execution_count": 28,
     "metadata": {},
     "output_type": "execute_result"
    }
   ],
   "source": [
    "region3.columns"
   ]
  },
  {
   "cell_type": "markdown",
   "id": "888abbc7-a8ac-4705-aa62-78a0706edbd0",
   "metadata": {},
   "source": [
    "#### Datatypes, on all three datasets, looks good."
   ]
  },
  {
   "cell_type": "markdown",
   "id": "2d39f65e-035d-4d55-8250-2c153bc50bfb",
   "metadata": {},
   "source": [
    "#### There is no missing data, on any of the three datasets."
   ]
  },
  {
   "cell_type": "markdown",
   "id": "ede1162a-58ba-4818-92eb-2ca3c45d1a55",
   "metadata": {},
   "source": [
    "### Drop duplicates"
   ]
  },
  {
   "cell_type": "code",
   "execution_count": 32,
   "id": "ab1bb1eb-42fd-4ec1-bd77-c4314cbeca15",
   "metadata": {},
   "outputs": [],
   "source": [
    "region1 = region1.drop_duplicates(subset='well_id')"
   ]
  },
  {
   "cell_type": "code",
   "execution_count": 33,
   "id": "afa8af7a-671e-46f7-93a0-c6f6b97cc24e",
   "metadata": {},
   "outputs": [
    {
     "data": {
      "text/plain": [
       "(99990, 5)"
      ]
     },
     "execution_count": 33,
     "metadata": {},
     "output_type": "execute_result"
    }
   ],
   "source": [
    "region1.shape"
   ]
  },
  {
   "cell_type": "code",
   "execution_count": 34,
   "id": "4cadf07e-6a20-4c10-83ea-01d09767c779",
   "metadata": {},
   "outputs": [],
   "source": [
    "region2 = region2.drop_duplicates(subset='well_id')"
   ]
  },
  {
   "cell_type": "code",
   "execution_count": 35,
   "id": "f3237de8-5c00-4d00-8005-6b67e41061b6",
   "metadata": {},
   "outputs": [
    {
     "data": {
      "text/plain": [
       "(99996, 5)"
      ]
     },
     "execution_count": 35,
     "metadata": {},
     "output_type": "execute_result"
    }
   ],
   "source": [
    "region2.shape"
   ]
  },
  {
   "cell_type": "code",
   "execution_count": 36,
   "id": "fc30f4de-b7f3-468f-9dc0-e4e8f9eba766",
   "metadata": {},
   "outputs": [],
   "source": [
    "region3 = region3.drop_duplicates(subset='well_id')"
   ]
  },
  {
   "cell_type": "code",
   "execution_count": 37,
   "id": "4521f6d7-9f74-4370-819e-4a6ad3a142d1",
   "metadata": {},
   "outputs": [
    {
     "data": {
      "text/plain": [
       "(99996, 5)"
      ]
     },
     "execution_count": 37,
     "metadata": {},
     "output_type": "execute_result"
    }
   ],
   "source": [
    "region3.shape"
   ]
  },
  {
   "cell_type": "markdown",
   "id": "d4a84677-ffaf-44c2-bfbc-08d537296166",
   "metadata": {},
   "source": [
    "#### Data is clean"
   ]
  },
  {
   "cell_type": "markdown",
   "id": "1516d969-1d5f-406d-a3c0-c3a620f79a81",
   "metadata": {},
   "source": [
    "#### ... but, region1 now has 6 fewer rows than region2 and region3."
   ]
  },
  {
   "cell_type": "markdown",
   "id": "b7749da7",
   "metadata": {},
   "source": [
    "<div class=\"alert alert-success\">\n",
    "<b>Reviewer's comment V1</b>\n",
    "\n",
    "Correct\n",
    "\n",
    "</div>"
   ]
  },
  {
   "cell_type": "markdown",
   "id": "d1812594-343b-4bbb-bcfa-9ba376624260",
   "metadata": {},
   "source": [
    "## <div style=\"color: red; border: 2px solid yellow; display: inline-block;\">Exploratory data analysis:</div>"
   ]
  },
  {
   "cell_type": "markdown",
   "id": "74868b9e-b042-4c5d-8be0-81104bf1c544",
   "metadata": {},
   "source": [
    "## <span style=\"color:blue;\">Region 1:</span>"
   ]
  },
  {
   "cell_type": "code",
   "execution_count": 43,
   "id": "2e0b7f79-6f1d-4132-815d-b61271f8341d",
   "metadata": {},
   "outputs": [
    {
     "data": {
      "text/html": [
       "<div>\n",
       "<style scoped>\n",
       "    .dataframe tbody tr th:only-of-type {\n",
       "        vertical-align: middle;\n",
       "    }\n",
       "\n",
       "    .dataframe tbody tr th {\n",
       "        vertical-align: top;\n",
       "    }\n",
       "\n",
       "    .dataframe thead th {\n",
       "        text-align: right;\n",
       "    }\n",
       "</style>\n",
       "<table border=\"1\" class=\"dataframe\">\n",
       "  <thead>\n",
       "    <tr style=\"text-align: right;\">\n",
       "      <th></th>\n",
       "      <th>f0</th>\n",
       "      <th>f1</th>\n",
       "      <th>f2</th>\n",
       "      <th>vol_reserves</th>\n",
       "    </tr>\n",
       "  </thead>\n",
       "  <tbody>\n",
       "    <tr>\n",
       "      <th>count</th>\n",
       "      <td>99990.000000</td>\n",
       "      <td>99990.000000</td>\n",
       "      <td>99990.000000</td>\n",
       "      <td>99990.000000</td>\n",
       "    </tr>\n",
       "    <tr>\n",
       "      <th>mean</th>\n",
       "      <td>0.500454</td>\n",
       "      <td>0.250141</td>\n",
       "      <td>2.502629</td>\n",
       "      <td>92.499684</td>\n",
       "    </tr>\n",
       "    <tr>\n",
       "      <th>std</th>\n",
       "      <td>0.871844</td>\n",
       "      <td>0.504430</td>\n",
       "      <td>3.248149</td>\n",
       "      <td>44.288304</td>\n",
       "    </tr>\n",
       "    <tr>\n",
       "      <th>min</th>\n",
       "      <td>-1.408605</td>\n",
       "      <td>-0.848218</td>\n",
       "      <td>-12.088328</td>\n",
       "      <td>0.000000</td>\n",
       "    </tr>\n",
       "    <tr>\n",
       "      <th>25%</th>\n",
       "      <td>-0.072572</td>\n",
       "      <td>-0.200877</td>\n",
       "      <td>0.287784</td>\n",
       "      <td>56.497069</td>\n",
       "    </tr>\n",
       "    <tr>\n",
       "      <th>50%</th>\n",
       "      <td>0.502405</td>\n",
       "      <td>0.250252</td>\n",
       "      <td>2.515969</td>\n",
       "      <td>91.847928</td>\n",
       "    </tr>\n",
       "    <tr>\n",
       "      <th>75%</th>\n",
       "      <td>1.073626</td>\n",
       "      <td>0.700640</td>\n",
       "      <td>4.715035</td>\n",
       "      <td>128.563699</td>\n",
       "    </tr>\n",
       "    <tr>\n",
       "      <th>max</th>\n",
       "      <td>2.362331</td>\n",
       "      <td>1.343769</td>\n",
       "      <td>16.003790</td>\n",
       "      <td>185.364347</td>\n",
       "    </tr>\n",
       "  </tbody>\n",
       "</table>\n",
       "</div>"
      ],
      "text/plain": [
       "                 f0            f1            f2  vol_reserves\n",
       "count  99990.000000  99990.000000  99990.000000  99990.000000\n",
       "mean       0.500454      0.250141      2.502629     92.499684\n",
       "std        0.871844      0.504430      3.248149     44.288304\n",
       "min       -1.408605     -0.848218    -12.088328      0.000000\n",
       "25%       -0.072572     -0.200877      0.287784     56.497069\n",
       "50%        0.502405      0.250252      2.515969     91.847928\n",
       "75%        1.073626      0.700640      4.715035    128.563699\n",
       "max        2.362331      1.343769     16.003790    185.364347"
      ]
     },
     "execution_count": 43,
     "metadata": {},
     "output_type": "execute_result"
    }
   ],
   "source": [
    "region1.describe()"
   ]
  },
  {
   "cell_type": "code",
   "execution_count": 44,
   "id": "173311de-8678-416c-8531-ea6b3547e842",
   "metadata": {},
   "outputs": [],
   "source": [
    "# Generate the summary statistics\n",
    "summary_stats_reg1 = region1.describe()"
   ]
  },
  {
   "cell_type": "code",
   "execution_count": 45,
   "id": "8325cc37-64b1-4953-80b5-a237f4ce7958",
   "metadata": {},
   "outputs": [
    {
     "name": "stdout",
     "output_type": "stream",
     "text": [
      "92.5\n"
     ]
    }
   ],
   "source": [
    "# Extract the mean value for the 'product' column\n",
    "mean_reserves_reg1 = round(summary_stats_reg1.loc['mean', 'vol_reserves'], 2)\n",
    "print(mean_reserves_reg1)"
   ]
  },
  {
   "cell_type": "code",
   "execution_count": 46,
   "id": "36736e87-8932-45c2-b455-4d96c671b031",
   "metadata": {},
   "outputs": [],
   "source": [
    "# Extract the mean value for the features\n",
    "mean_f0_reg1 = round(summary_stats_reg1.loc['mean', 'f0'], 2)\n",
    "mean_f1_reg1 = round(summary_stats_reg1.loc['mean', 'f1'], 2)\n",
    "mean_f2_reg1 = round(summary_stats_reg1.loc['mean', 'f2'], 2)"
   ]
  },
  {
   "cell_type": "code",
   "execution_count": 47,
   "id": "9493c7bd-6900-4bd6-a390-587068c44dbf",
   "metadata": {},
   "outputs": [
    {
     "data": {
      "text/html": [
       "<span style=\"color:blue; font-size:16px;\">The average amount of oil reserves, in region 1 is: &nbsp; 92.50</span>"
      ],
      "text/plain": [
       "<IPython.core.display.HTML object>"
      ]
     },
     "metadata": {},
     "output_type": "display_data"
    },
    {
     "data": {
      "text/html": [
       "<span style=\"color:blue; font-size:16px;\">The mean values of features, in region 1 are: &nbsp; f0: &nbsp; 0.50, &nbsp;f1: &nbsp; 0.25, &nbsp;f2: &nbsp;2.50</span>"
      ],
      "text/plain": [
       "<IPython.core.display.HTML object>"
      ]
     },
     "metadata": {},
     "output_type": "display_data"
    }
   ],
   "source": [
    "# HTML styled string\n",
    "formatted_string_reg1_mean = f'<span style=\"color:blue; font-size:16px;\">The average amount of oil reserves, in region 1 is: &nbsp; {mean_reserves_reg1:.2f}</span>'\n",
    "formatted_string_reg1_mean_features = f'<span style=\"color:blue; font-size:16px;\">The mean values of features, in region 1 are: &nbsp; f0: &nbsp; {mean_f0_reg1:.2f}, &nbsp;f1: &nbsp; {mean_f1_reg1:.2f}, &nbsp;f2: &nbsp;{mean_f2_reg1:.2f}</span>'\n",
    "\n",
    "# Display the formatted string\n",
    "display(HTML(formatted_string_reg1_mean))\n",
    "display(HTML(formatted_string_reg1_mean_features))"
   ]
  },
  {
   "cell_type": "code",
   "execution_count": 48,
   "id": "6ff00dd4-213d-476b-b3b0-12bce1a11fb7",
   "metadata": {},
   "outputs": [],
   "source": [
    "# Data for plotting region1 mean values\n",
    "features = ['f0', 'f1', 'f2', 'vol_reserves']\n",
    "values = [mean_f0_reg1, mean_f1_reg1, mean_f2_reg1, mean_reserves_reg1]"
   ]
  },
  {
   "cell_type": "code",
   "execution_count": 49,
   "id": "e906ef6e-46c0-4295-b528-12c9ffae8658",
   "metadata": {},
   "outputs": [
    {
     "data": {
      "image/png": "[encoded data removed]"
     },
     "metadata": {},
     "output_type": "display_data"
    }
   ],
   "source": [
    "pio.renderers.default = 'png'\n",
    "\n",
    "# Create a bar plot\n",
    "fig1 = go.Figure(data=[\n",
    "    go.Bar(\n",
    "        x=features, \n",
    "        y=values, \n",
    "        marker_color=['lightblue', 'lightblue', 'lightblue', 'blue'],\n",
    "        text=values,  # hover text uses 'text' attribute\n",
    "        hoverinfo='text',  # display text when hovering\n",
    "    )\n",
    "])\n",
    "\n",
    "# Add titles and labels\n",
    "fig1.update_layout(\n",
    "    title={\n",
    "        'text': 'Average of Features and Volume Reserves in Region 1',\n",
    "        'x': 0.5,  # Center the title\n",
    "        'xanchor': 'center',\n",
    "    },\n",
    "    xaxis_title='Features',\n",
    "    yaxis_title='Mean Values',\n",
    "    font=dict(size=14),\n",
    ")\n",
    "\n",
    "fig1.show()"
   ]
  },
  {
   "cell_type": "markdown",
   "id": "67605b52-86a2-4088-a127-6886e056cd05",
   "metadata": {},
   "source": [
    "## <span style=\"color:limegreen;\">Region 2:</span>"
   ]
  },
  {
   "cell_type": "code",
   "execution_count": 51,
   "id": "fd80b508-d5c2-4dcf-b9e4-167dabd0d49b",
   "metadata": {},
   "outputs": [
    {
     "data": {
      "text/html": [
       "<div>\n",
       "<style scoped>\n",
       "    .dataframe tbody tr th:only-of-type {\n",
       "        vertical-align: middle;\n",
       "    }\n",
       "\n",
       "    .dataframe tbody tr th {\n",
       "        vertical-align: top;\n",
       "    }\n",
       "\n",
       "    .dataframe thead th {\n",
       "        text-align: right;\n",
       "    }\n",
       "</style>\n",
       "<table border=\"1\" class=\"dataframe\">\n",
       "  <thead>\n",
       "    <tr style=\"text-align: right;\">\n",
       "      <th></th>\n",
       "      <th>f0</th>\n",
       "      <th>f1</th>\n",
       "      <th>f2</th>\n",
       "      <th>vol_reserves</th>\n",
       "    </tr>\n",
       "  </thead>\n",
       "  <tbody>\n",
       "    <tr>\n",
       "      <th>count</th>\n",
       "      <td>99996.000000</td>\n",
       "      <td>99996.000000</td>\n",
       "      <td>99996.000000</td>\n",
       "      <td>99996.000000</td>\n",
       "    </tr>\n",
       "    <tr>\n",
       "      <th>mean</th>\n",
       "      <td>1.141209</td>\n",
       "      <td>-4.796608</td>\n",
       "      <td>2.494501</td>\n",
       "      <td>68.823916</td>\n",
       "    </tr>\n",
       "    <tr>\n",
       "      <th>std</th>\n",
       "      <td>8.965815</td>\n",
       "      <td>5.119906</td>\n",
       "      <td>1.703579</td>\n",
       "      <td>45.944663</td>\n",
       "    </tr>\n",
       "    <tr>\n",
       "      <th>min</th>\n",
       "      <td>-31.609576</td>\n",
       "      <td>-26.358598</td>\n",
       "      <td>-0.018144</td>\n",
       "      <td>0.000000</td>\n",
       "    </tr>\n",
       "    <tr>\n",
       "      <th>25%</th>\n",
       "      <td>-6.298551</td>\n",
       "      <td>-8.267985</td>\n",
       "      <td>1.000021</td>\n",
       "      <td>26.953261</td>\n",
       "    </tr>\n",
       "    <tr>\n",
       "      <th>50%</th>\n",
       "      <td>1.153055</td>\n",
       "      <td>-4.813172</td>\n",
       "      <td>2.011475</td>\n",
       "      <td>57.085625</td>\n",
       "    </tr>\n",
       "    <tr>\n",
       "      <th>75%</th>\n",
       "      <td>8.620964</td>\n",
       "      <td>-1.332816</td>\n",
       "      <td>3.999904</td>\n",
       "      <td>107.813044</td>\n",
       "    </tr>\n",
       "    <tr>\n",
       "      <th>max</th>\n",
       "      <td>29.421755</td>\n",
       "      <td>18.734063</td>\n",
       "      <td>5.019721</td>\n",
       "      <td>137.945408</td>\n",
       "    </tr>\n",
       "  </tbody>\n",
       "</table>\n",
       "</div>"
      ],
      "text/plain": [
       "                 f0            f1            f2  vol_reserves\n",
       "count  99996.000000  99996.000000  99996.000000  99996.000000\n",
       "mean       1.141209     -4.796608      2.494501     68.823916\n",
       "std        8.965815      5.119906      1.703579     45.944663\n",
       "min      -31.609576    -26.358598     -0.018144      0.000000\n",
       "25%       -6.298551     -8.267985      1.000021     26.953261\n",
       "50%        1.153055     -4.813172      2.011475     57.085625\n",
       "75%        8.620964     -1.332816      3.999904    107.813044\n",
       "max       29.421755     18.734063      5.019721    137.945408"
      ]
     },
     "execution_count": 51,
     "metadata": {},
     "output_type": "execute_result"
    }
   ],
   "source": [
    "region2.describe()"
   ]
  },
  {
   "cell_type": "code",
   "execution_count": 52,
   "id": "1f8ca55f-489e-4d54-9d69-51c265e256fc",
   "metadata": {},
   "outputs": [],
   "source": [
    "# Generate the summary statistics\n",
    "summary_stats_reg2 = region2.describe()"
   ]
  },
  {
   "cell_type": "code",
   "execution_count": 53,
   "id": "864ab419-36c6-45ab-a8b7-ed0f4e0b0b05",
   "metadata": {},
   "outputs": [
    {
     "name": "stdout",
     "output_type": "stream",
     "text": [
      "68.82\n"
     ]
    }
   ],
   "source": [
    "# Extract the mean value for the 'product' column\n",
    "mean_reserves_reg2 = round(summary_stats_reg2.loc['mean', 'vol_reserves'], 2)\n",
    "print(mean_reserves_reg2)"
   ]
  },
  {
   "cell_type": "code",
   "execution_count": 54,
   "id": "eeef1ad1-a432-47b1-a434-47dfd48ce289",
   "metadata": {},
   "outputs": [],
   "source": [
    "# Extract the mean value for the features\n",
    "mean_f0_reg2 = round(summary_stats_reg2.loc['mean', 'f0'], 2)\n",
    "mean_f1_reg2 = round(summary_stats_reg2.loc['mean', 'f1'], 2)\n",
    "mean_f2_reg2 = round(summary_stats_reg2.loc['mean', 'f2'], 2)"
   ]
  },
  {
   "cell_type": "code",
   "execution_count": 55,
   "id": "c84202ab-3041-4770-b5ea-a865138d880a",
   "metadata": {},
   "outputs": [
    {
     "data": {
      "text/html": [
       "<span style=\"color:limegreen; font-size:16px;\">The average amount of oil reserves, in region 2 is: &nbsp;  68.82</span>"
      ],
      "text/plain": [
       "<IPython.core.display.HTML object>"
      ]
     },
     "metadata": {},
     "output_type": "display_data"
    },
    {
     "data": {
      "text/html": [
       "<span style=\"color:limegreen; font-size:16px;\">The mean values of features, in region 2 are: &nbsp; f0:&nbsp; 1.14, &nbsp;f1:&nbsp; -4.80, &nbsp; f2: &nbsp;2.49</span>"
      ],
      "text/plain": [
       "<IPython.core.display.HTML object>"
      ]
     },
     "metadata": {},
     "output_type": "display_data"
    }
   ],
   "source": [
    "# HTML styled string\n",
    "formatted_string_reg2_mean_reserves = f'<span style=\"color:limegreen; font-size:16px;\">The average amount of oil reserves, in region 2 is: &nbsp;  {mean_reserves_reg2:.2f}</span>'\n",
    "formatted_string_reg2_mean_features = f'<span style=\"color:limegreen; font-size:16px;\">The mean values of features, in region 2 are: &nbsp; f0:&nbsp; {mean_f0_reg2:.2f}, &nbsp;f1:&nbsp; {mean_f1_reg2:.2f}, &nbsp; f2: &nbsp;{mean_f2_reg2:.2f}</span>'\n",
    "\n",
    "# Display the formatted string\n",
    "display(HTML(formatted_string_reg2_mean_reserves))\n",
    "display(HTML(formatted_string_reg2_mean_features))"
   ]
  },
  {
   "cell_type": "code",
   "execution_count": 56,
   "id": "7a0d6fa7-d99b-413d-970c-bf01b8596a72",
   "metadata": {},
   "outputs": [],
   "source": [
    "# Data for plotting region2 mean values\n",
    "features2 = ['f0', 'f1', 'f2', 'vol_reserves']\n",
    "values2 = [mean_f0_reg2, mean_f1_reg2, mean_f2_reg2, mean_reserves_reg2]"
   ]
  },
  {
   "cell_type": "code",
   "execution_count": 57,
   "id": "85ed13d5-7f14-4614-b238-d89d62c82988",
   "metadata": {},
   "outputs": [
    {
     "data": {
      "image/png": "[encoded data removed]"
     },
     "metadata": {},
     "output_type": "display_data"
    }
   ],
   "source": [
    "# Create a bar plot\n",
    "fig2 = go.Figure(data=[\n",
    "    go.Bar(\n",
    "        x=features2, \n",
    "        y=values2, \n",
    "        marker_color=['lightgreen', 'lightgreen', 'lightgreen', 'limegreen'],\n",
    "        text=values,  # hover text uses 'text' attribute\n",
    "        hoverinfo='text',  # display text when hovering\n",
    "    )\n",
    "])\n",
    "\n",
    "# Add titles and labels\n",
    "fig2.update_layout(\n",
    "    title={\n",
    "        'text': 'Average of Features and Volume Reserves in Region 2',\n",
    "        'x': 0.5,  # Center the title\n",
    "        'xanchor': 'center',\n",
    "    },\n",
    "    xaxis_title='Features',\n",
    "    yaxis_title='Mean Values',\n",
    "    font=dict(size=14),\n",
    ")\n",
    "\n",
    "fig2.show()"
   ]
  },
  {
   "cell_type": "markdown",
   "id": "615a0cc5-833b-46a2-90f9-56b403f9fa7c",
   "metadata": {},
   "source": [
    "#### Interesting... f1 mean is below zero."
   ]
  },
  {
   "cell_type": "markdown",
   "id": "57e84539-ac3b-4a5a-83c4-4ffddb479976",
   "metadata": {},
   "source": [
    "## <span style=\"color:orange;\">Region 3:</span>"
   ]
  },
  {
   "cell_type": "code",
   "execution_count": 60,
   "id": "e1bbac8c-e798-4351-9dde-f4c57c532a93",
   "metadata": {},
   "outputs": [
    {
     "data": {
      "text/html": [
       "<div>\n",
       "<style scoped>\n",
       "    .dataframe tbody tr th:only-of-type {\n",
       "        vertical-align: middle;\n",
       "    }\n",
       "\n",
       "    .dataframe tbody tr th {\n",
       "        vertical-align: top;\n",
       "    }\n",
       "\n",
       "    .dataframe thead th {\n",
       "        text-align: right;\n",
       "    }\n",
       "</style>\n",
       "<table border=\"1\" class=\"dataframe\">\n",
       "  <thead>\n",
       "    <tr style=\"text-align: right;\">\n",
       "      <th></th>\n",
       "      <th>f0</th>\n",
       "      <th>f1</th>\n",
       "      <th>f2</th>\n",
       "      <th>vol_reserves</th>\n",
       "    </tr>\n",
       "  </thead>\n",
       "  <tbody>\n",
       "    <tr>\n",
       "      <th>count</th>\n",
       "      <td>99996.000000</td>\n",
       "      <td>99996.000000</td>\n",
       "      <td>99996.000000</td>\n",
       "      <td>99996.000000</td>\n",
       "    </tr>\n",
       "    <tr>\n",
       "      <th>mean</th>\n",
       "      <td>0.002002</td>\n",
       "      <td>-0.002159</td>\n",
       "      <td>2.495084</td>\n",
       "      <td>94.998342</td>\n",
       "    </tr>\n",
       "    <tr>\n",
       "      <th>std</th>\n",
       "      <td>1.732052</td>\n",
       "      <td>1.730397</td>\n",
       "      <td>3.473482</td>\n",
       "      <td>44.749573</td>\n",
       "    </tr>\n",
       "    <tr>\n",
       "      <th>min</th>\n",
       "      <td>-8.760004</td>\n",
       "      <td>-7.084020</td>\n",
       "      <td>-11.970335</td>\n",
       "      <td>0.000000</td>\n",
       "    </tr>\n",
       "    <tr>\n",
       "      <th>25%</th>\n",
       "      <td>-1.162328</td>\n",
       "      <td>-1.174841</td>\n",
       "      <td>0.130269</td>\n",
       "      <td>59.450028</td>\n",
       "    </tr>\n",
       "    <tr>\n",
       "      <th>50%</th>\n",
       "      <td>0.009424</td>\n",
       "      <td>-0.009661</td>\n",
       "      <td>2.484236</td>\n",
       "      <td>94.925026</td>\n",
       "    </tr>\n",
       "    <tr>\n",
       "      <th>75%</th>\n",
       "      <td>1.158477</td>\n",
       "      <td>1.163523</td>\n",
       "      <td>4.858720</td>\n",
       "      <td>130.586815</td>\n",
       "    </tr>\n",
       "    <tr>\n",
       "      <th>max</th>\n",
       "      <td>7.238262</td>\n",
       "      <td>7.844801</td>\n",
       "      <td>16.739402</td>\n",
       "      <td>190.029838</td>\n",
       "    </tr>\n",
       "  </tbody>\n",
       "</table>\n",
       "</div>"
      ],
      "text/plain": [
       "                 f0            f1            f2  vol_reserves\n",
       "count  99996.000000  99996.000000  99996.000000  99996.000000\n",
       "mean       0.002002     -0.002159      2.495084     94.998342\n",
       "std        1.732052      1.730397      3.473482     44.749573\n",
       "min       -8.760004     -7.084020    -11.970335      0.000000\n",
       "25%       -1.162328     -1.174841      0.130269     59.450028\n",
       "50%        0.009424     -0.009661      2.484236     94.925026\n",
       "75%        1.158477      1.163523      4.858720    130.586815\n",
       "max        7.238262      7.844801     16.739402    190.029838"
      ]
     },
     "execution_count": 60,
     "metadata": {},
     "output_type": "execute_result"
    }
   ],
   "source": [
    "region3.describe()"
   ]
  },
  {
   "cell_type": "code",
   "execution_count": 61,
   "id": "a2b9b9b5-3c0c-4de2-accd-c0c946aa093c",
   "metadata": {},
   "outputs": [],
   "source": [
    "# Generate the summary statistics\n",
    "summary_stats_reg3 = region3.describe()"
   ]
  },
  {
   "cell_type": "code",
   "execution_count": 62,
   "id": "072056ae-8db9-466f-be40-0bca3bc11f43",
   "metadata": {},
   "outputs": [
    {
     "name": "stdout",
     "output_type": "stream",
     "text": [
      "95.0\n"
     ]
    }
   ],
   "source": [
    "# Extract the mean value for the 'product' column\n",
    "mean_reserves_reg3 = round(summary_stats_reg3.loc['mean', 'vol_reserves'], 2)\n",
    "print(mean_reserves_reg3)"
   ]
  },
  {
   "cell_type": "code",
   "execution_count": 63,
   "id": "25ff6153-4837-495c-b9aa-8e76eb5f8873",
   "metadata": {},
   "outputs": [],
   "source": [
    "# Extract the mean value for the features\n",
    "mean_f0_reg3 = round(summary_stats_reg3.loc['mean', 'f0'], 2)\n",
    "mean_f1_reg3 = round(summary_stats_reg3.loc['mean', 'f1'], 2)\n",
    "mean_f2_reg3 = round(summary_stats_reg3.loc['mean', 'f2'], 2)"
   ]
  },
  {
   "cell_type": "code",
   "execution_count": 64,
   "id": "a8b69dc4-951f-4911-85c7-0f9493059f23",
   "metadata": {},
   "outputs": [
    {
     "data": {
      "text/html": [
       "<span style=\"color:orange; font-size:16px;\">The average amount of oil reserves, in region 3 is: &nbsp; 95.00</span>"
      ],
      "text/plain": [
       "<IPython.core.display.HTML object>"
      ]
     },
     "metadata": {},
     "output_type": "display_data"
    },
    {
     "data": {
      "text/html": [
       "<span style=\"color:orange; font-size:16px;\">The mean values of features, in region 3 are: &nbsp; f0: &nbsp; 0.00, &nbsp; f1: &nbsp; -0.00, &nbsp; f2: &nbsp; 2.50</span>"
      ],
      "text/plain": [
       "<IPython.core.display.HTML object>"
      ]
     },
     "metadata": {},
     "output_type": "display_data"
    }
   ],
   "source": [
    "# HTML styled string\n",
    "formatted_string_reg3_mean_reserves = f'<span style=\"color:orange; font-size:16px;\">The average amount of oil reserves, in region 3 is: &nbsp; {mean_reserves_reg3:.2f}</span>'\n",
    "formatted_string_reg3_mean_features = f'<span style=\"color:orange; font-size:16px;\">The mean values of features, in region 3 are: &nbsp; f0: &nbsp; {mean_f0_reg3:.2f}, &nbsp; f1: &nbsp; {mean_f1_reg3:.2f}, &nbsp; f2: &nbsp; {mean_f2_reg3:.2f}</span>'\n",
    "\n",
    "# Display the formatted string\n",
    "display(HTML(formatted_string_reg3_mean_reserves))\n",
    "display(HTML(formatted_string_reg3_mean_features))"
   ]
  },
  {
   "cell_type": "code",
   "execution_count": 65,
   "id": "383af875-9909-4750-bcf7-9162ddc10f12",
   "metadata": {},
   "outputs": [],
   "source": [
    "# Data for plotting region2 mean values\n",
    "features3 = ['f0', 'f1', 'f2', 'vol_reserves']\n",
    "values3 = [mean_f0_reg3, mean_f1_reg3, mean_f2_reg3, mean_reserves_reg3]"
   ]
  },
  {
   "cell_type": "code",
   "execution_count": 66,
   "id": "f3f3d1eb-ed04-479f-ad52-7c8083fcd493",
   "metadata": {},
   "outputs": [
    {
     "data": {
      "image/png": "[encoded data removed]"
     },
     "metadata": {},
     "output_type": "display_data"
    }
   ],
   "source": [
    "# Create a bar plot\n",
    "fig3 = go.Figure(data=[\n",
    "    go.Bar(\n",
    "        x=features3, \n",
    "        y=values3, \n",
    "        marker_color=['coral', 'coral', 'coral', 'orange'],\n",
    "        text=values,  # hover text uses 'text' attribute\n",
    "        hoverinfo='text',  # display text when hovering\n",
    "    )\n",
    "])\n",
    "\n",
    "# Add titles and labels\n",
    "fig3.update_layout(\n",
    "    title={\n",
    "        'text': 'Average of Features and Volume Reserves in Region 3',\n",
    "        'x': 0.5,  # Center the title\n",
    "        'xanchor': 'center',\n",
    "    },\n",
    "    xaxis_title='Features',\n",
    "    yaxis_title='Mean Values',\n",
    "    font=dict(size=14),\n",
    ")\n",
    "\n",
    "fig3.show()"
   ]
  },
  {
   "cell_type": "markdown",
   "id": "1f2c63b5-6b48-470a-81e4-2cdf84fe42fc",
   "metadata": {},
   "source": [
    "#### f0 and f1 mean are both very close to zero, so nothing shows on the graph for those means."
   ]
  },
  {
   "cell_type": "markdown",
   "id": "a6eccf0c-3ce8-4fde-8746-770dd42b7e2a",
   "metadata": {},
   "source": [
    "<div style=\"color: red; padding: 10px;\">\n",
    "    <h3>Volume of Reserves for all 3 regions:</h3>\n",
    "</div>"
   ]
  },
  {
   "cell_type": "code",
   "execution_count": 69,
   "id": "71dbe59a-a26d-4fd5-8e6a-55d2485e4b4a",
   "metadata": {},
   "outputs": [],
   "source": [
    "# Data for plotting\n",
    "regions = ['Region 1', 'Region 2', 'Region 3']\n",
    "mean_vol_reserves = [mean_reserves_reg1, mean_reserves_reg2, mean_reserves_reg3]\n",
    "colors = ['blue', 'limegreen', 'orange']"
   ]
  },
  {
   "cell_type": "code",
   "execution_count": 70,
   "id": "d5a45950-ac4e-47c6-859c-a9311549f0ea",
   "metadata": {},
   "outputs": [
    {
     "data": {
      "image/png": "[encoded data removed]"
     },
     "metadata": {},
     "output_type": "display_data"
    }
   ],
   "source": [
    "# Create a bar plot\n",
    "fig = go.Figure(data=[\n",
    "    go.Bar(\n",
    "        x=regions, \n",
    "        y=mean_vol_reserves, \n",
    "        marker_color=colors,\n",
    "        text=mean_vol_reserves,  # hover text uses 'text' attribute\n",
    "        hoverinfo='text',  # display text when hovering\n",
    "    )\n",
    "])\n",
    "\n",
    "# Add titles and labels\n",
    "fig.update_layout(\n",
    "    title={\n",
    "        'text': 'Average Volume Reserves by Region',\n",
    "        'x': 0.5,  # Center the title\n",
    "        'xanchor': 'center',\n",
    "    },\n",
    "    xaxis_title='Regions',\n",
    "    yaxis_title='Mean Volume Reserves',\n",
    "    font=dict(size=14),\n",
    ")\n",
    "\n",
    "fig.show()"
   ]
  },
  {
   "cell_type": "markdown",
   "id": "86f4dfd9-407b-4285-ab7a-890755557b99",
   "metadata": {},
   "source": [
    "<div style=\"color: red; padding: 10px;\">\n",
    "    <h3>Check the correlation between features and the target:</h3>\n",
    "</div>"
   ]
  },
  {
   "cell_type": "code",
   "execution_count": 72,
   "id": "30f8dcbd-f693-43f5-850e-82fd12e0b199",
   "metadata": {},
   "outputs": [
    {
     "data": {
      "text/html": [
       "<div>\n",
       "<style scoped>\n",
       "    .dataframe tbody tr th:only-of-type {\n",
       "        vertical-align: middle;\n",
       "    }\n",
       "\n",
       "    .dataframe tbody tr th {\n",
       "        vertical-align: top;\n",
       "    }\n",
       "\n",
       "    .dataframe thead th {\n",
       "        text-align: right;\n",
       "    }\n",
       "</style>\n",
       "<table border=\"1\" class=\"dataframe\">\n",
       "  <thead>\n",
       "    <tr style=\"text-align: right;\">\n",
       "      <th></th>\n",
       "      <th>f0</th>\n",
       "      <th>f1</th>\n",
       "      <th>f2</th>\n",
       "      <th>vol_reserves</th>\n",
       "    </tr>\n",
       "  </thead>\n",
       "  <tbody>\n",
       "    <tr>\n",
       "      <th>f0</th>\n",
       "      <td>1.000000</td>\n",
       "      <td>-0.440717</td>\n",
       "      <td>-0.003211</td>\n",
       "      <td>0.143504</td>\n",
       "    </tr>\n",
       "    <tr>\n",
       "      <th>f1</th>\n",
       "      <td>-0.440717</td>\n",
       "      <td>1.000000</td>\n",
       "      <td>0.001764</td>\n",
       "      <td>-0.192351</td>\n",
       "    </tr>\n",
       "    <tr>\n",
       "      <th>f2</th>\n",
       "      <td>-0.003211</td>\n",
       "      <td>0.001764</td>\n",
       "      <td>1.000000</td>\n",
       "      <td>0.483631</td>\n",
       "    </tr>\n",
       "    <tr>\n",
       "      <th>vol_reserves</th>\n",
       "      <td>0.143504</td>\n",
       "      <td>-0.192351</td>\n",
       "      <td>0.483631</td>\n",
       "      <td>1.000000</td>\n",
       "    </tr>\n",
       "  </tbody>\n",
       "</table>\n",
       "</div>"
      ],
      "text/plain": [
       "                    f0        f1        f2  vol_reserves\n",
       "f0            1.000000 -0.440717 -0.003211      0.143504\n",
       "f1           -0.440717  1.000000  0.001764     -0.192351\n",
       "f2           -0.003211  0.001764  1.000000      0.483631\n",
       "vol_reserves  0.143504 -0.192351  0.483631      1.000000"
      ]
     },
     "execution_count": 72,
     "metadata": {},
     "output_type": "execute_result"
    }
   ],
   "source": [
    "region1.corr(numeric_only=True)"
   ]
  },
  {
   "cell_type": "code",
   "execution_count": 73,
   "id": "a869aa09-62b2-411f-b9e3-187d5c3c7237",
   "metadata": {},
   "outputs": [
    {
     "data": {
      "text/html": [
       "<div>\n",
       "<style scoped>\n",
       "    .dataframe tbody tr th:only-of-type {\n",
       "        vertical-align: middle;\n",
       "    }\n",
       "\n",
       "    .dataframe tbody tr th {\n",
       "        vertical-align: top;\n",
       "    }\n",
       "\n",
       "    .dataframe thead th {\n",
       "        text-align: right;\n",
       "    }\n",
       "</style>\n",
       "<table border=\"1\" class=\"dataframe\">\n",
       "  <thead>\n",
       "    <tr style=\"text-align: right;\">\n",
       "      <th></th>\n",
       "      <th>f0</th>\n",
       "      <th>f1</th>\n",
       "      <th>f2</th>\n",
       "      <th>vol_reserves</th>\n",
       "    </tr>\n",
       "  </thead>\n",
       "  <tbody>\n",
       "    <tr>\n",
       "      <th>f0</th>\n",
       "      <td>1.000000</td>\n",
       "      <td>0.182279</td>\n",
       "      <td>-0.001810</td>\n",
       "      <td>-0.030523</td>\n",
       "    </tr>\n",
       "    <tr>\n",
       "      <th>f1</th>\n",
       "      <td>0.182279</td>\n",
       "      <td>1.000000</td>\n",
       "      <td>-0.002594</td>\n",
       "      <td>-0.010154</td>\n",
       "    </tr>\n",
       "    <tr>\n",
       "      <th>f2</th>\n",
       "      <td>-0.001810</td>\n",
       "      <td>-0.002594</td>\n",
       "      <td>1.000000</td>\n",
       "      <td>0.999397</td>\n",
       "    </tr>\n",
       "    <tr>\n",
       "      <th>vol_reserves</th>\n",
       "      <td>-0.030523</td>\n",
       "      <td>-0.010154</td>\n",
       "      <td>0.999397</td>\n",
       "      <td>1.000000</td>\n",
       "    </tr>\n",
       "  </tbody>\n",
       "</table>\n",
       "</div>"
      ],
      "text/plain": [
       "                    f0        f1        f2  vol_reserves\n",
       "f0            1.000000  0.182279 -0.001810     -0.030523\n",
       "f1            0.182279  1.000000 -0.002594     -0.010154\n",
       "f2           -0.001810 -0.002594  1.000000      0.999397\n",
       "vol_reserves -0.030523 -0.010154  0.999397      1.000000"
      ]
     },
     "execution_count": 73,
     "metadata": {},
     "output_type": "execute_result"
    }
   ],
   "source": [
    "region2.corr(numeric_only=True)"
   ]
  },
  {
   "cell_type": "code",
   "execution_count": 74,
   "id": "e341772b-4a3b-4e0d-b7f1-66d23cca6e65",
   "metadata": {},
   "outputs": [
    {
     "data": {
      "text/html": [
       "<div>\n",
       "<style scoped>\n",
       "    .dataframe tbody tr th:only-of-type {\n",
       "        vertical-align: middle;\n",
       "    }\n",
       "\n",
       "    .dataframe tbody tr th {\n",
       "        vertical-align: top;\n",
       "    }\n",
       "\n",
       "    .dataframe thead th {\n",
       "        text-align: right;\n",
       "    }\n",
       "</style>\n",
       "<table border=\"1\" class=\"dataframe\">\n",
       "  <thead>\n",
       "    <tr style=\"text-align: right;\">\n",
       "      <th></th>\n",
       "      <th>f0</th>\n",
       "      <th>f1</th>\n",
       "      <th>f2</th>\n",
       "      <th>vol_reserves</th>\n",
       "    </tr>\n",
       "  </thead>\n",
       "  <tbody>\n",
       "    <tr>\n",
       "      <th>f0</th>\n",
       "      <td>1.000000</td>\n",
       "      <td>0.000506</td>\n",
       "      <td>-0.000452</td>\n",
       "      <td>-0.001978</td>\n",
       "    </tr>\n",
       "    <tr>\n",
       "      <th>f1</th>\n",
       "      <td>0.000506</td>\n",
       "      <td>1.000000</td>\n",
       "      <td>0.000753</td>\n",
       "      <td>-0.001055</td>\n",
       "    </tr>\n",
       "    <tr>\n",
       "      <th>f2</th>\n",
       "      <td>-0.000452</td>\n",
       "      <td>0.000753</td>\n",
       "      <td>1.000000</td>\n",
       "      <td>0.445867</td>\n",
       "    </tr>\n",
       "    <tr>\n",
       "      <th>vol_reserves</th>\n",
       "      <td>-0.001978</td>\n",
       "      <td>-0.001055</td>\n",
       "      <td>0.445867</td>\n",
       "      <td>1.000000</td>\n",
       "    </tr>\n",
       "  </tbody>\n",
       "</table>\n",
       "</div>"
      ],
      "text/plain": [
       "                    f0        f1        f2  vol_reserves\n",
       "f0            1.000000  0.000506 -0.000452     -0.001978\n",
       "f1            0.000506  1.000000  0.000753     -0.001055\n",
       "f2           -0.000452  0.000753  1.000000      0.445867\n",
       "vol_reserves -0.001978 -0.001055  0.445867      1.000000"
      ]
     },
     "execution_count": 74,
     "metadata": {},
     "output_type": "execute_result"
    }
   ],
   "source": [
    "region3.corr(numeric_only=True)"
   ]
  },
  {
   "cell_type": "markdown",
   "id": "b146e98b-5d69-41a3-a6b6-8def9accb3ec",
   "metadata": {},
   "source": [
    "## Understanding Correlation\n",
    "Correlation measures the strength and direction of the linear relationship between two variables. The numbers range from -1 to 1.\n",
    "\n",
    "### Positive Correlation (0 < r ≤ 1):\n",
    "As one variable increases, the other variable also tends to increase.\n",
    "- **0.7 to 1.0**: Strong positive relationship.\n",
    "- **0.3 to 0.7**: Moderate positive relationship.\n",
    "- **0 to 0.3**: Weak positive relationship.\n",
    "\n",
    "### Negative Correlation (-1 ≤ r < 0):\n",
    "As one variable increases, the other variable tends to decrease.\n",
    "- **-0.7 to -1.0**: Strong negative relationship.\n",
    "- **-0.3 to -0.7**: Moderate negative relationship.\n",
    "- **0 to -0.3**: Weak negative relationship.\n",
    "\n",
    "### No Correlation (r ≈ 0):\n",
    "No consistent linear relationship.\n",
    "\n",
    "### Interpretation of Correlation Results:\n",
    "- **Region 2** has a very strong correlation between `f2` and `vol_reserves`, suggesting that `f2` is a strong predictor of reserves in this region.\n",
    "- **Region 1** and **Region 3** also show a modest relationship between `f2` and `vol_reserves`, but it's not as strong as in Region 2."
   ]
  },
  {
   "cell_type": "markdown",
   "id": "adb69511",
   "metadata": {},
   "source": [
    "<div class=\"alert alert-success\">\n",
    "<b>Reviewer's comment V1</b>\n",
    "\n",
    "Good job!\n",
    "\n",
    "</div>"
   ]
  },
  {
   "cell_type": "markdown",
   "id": "7a6024c8-7b17-43c1-a18f-d383b09ffd7d",
   "metadata": {},
   "source": [
    "## <div style=\"color: red; border: 2px solid yellow; display: inline-block;\">Predictions for best location for new well:</div>"
   ]
  },
  {
   "cell_type": "markdown",
   "id": "4f0c1260-b95e-4fc6-ac28-1f3f55c4b1ba",
   "metadata": {},
   "source": [
    "<h2><b>This section will:</b></h2>\n",
    "<ul>\n",
    "    <li>Split the data into training and validation sets.</li>\n",
    "    <li>Train a linear regression model for each region.</li>\n",
    "    <li>Evaluate the model's performance using RMSE (Root Mean Squared Error).</li>\n",
    "    <li>Calculate predicted profit.</li>\n",
    "    <li>Bootstrapping</li>\n",
    "</ul>"
   ]
  },
  {
   "cell_type": "markdown",
   "id": "cce3022e-e554-4e78-accd-2b33a3eacb66",
   "metadata": {},
   "source": [
    "<div style=\"color: red; padding: 10px;\">\n",
    "    <h3>Split the 3 datasets:</h3>\n",
    "</div>"
   ]
  },
  {
   "cell_type": "code",
   "execution_count": 80,
   "id": "ed7d2190-4ad9-45d7-a1b2-6e8b76d82057",
   "metadata": {},
   "outputs": [
    {
     "name": "stdout",
     "output_type": "stream",
     "text": [
      "Features: \n",
      "['f0', 'f1', 'f2']\n",
      "\n",
      "\n",
      "Target: \n",
      "vol_reserves\n"
     ]
    }
   ],
   "source": [
    "#The column names are the same for all three datasets (region1, region2, and region3), so this only has to be done once.\n",
    "feature_columns = [col for col in region1.columns if col not in ['well_id', 'vol_reserves']]\n",
    "target_column = 'vol_reserves'\n",
    "\n",
    "print(\"Features: \")\n",
    "print(feature_columns)\n",
    "\n",
    "print('\\n')\n",
    "print(\"Target: \")\n",
    "print(target_column)"
   ]
  },
  {
   "cell_type": "code",
   "execution_count": 81,
   "id": "03543a5a-15aa-4509-a0d6-3d5a67f9f455",
   "metadata": {},
   "outputs": [],
   "source": [
    "def split_data(df, feature_cols, target_col, test_size=0.25, random_state=12345):\n",
    "    # Split the data into features and target sets\n",
    "    features = df[feature_cols]\n",
    "    target = df[target_col]\n",
    "\n",
    "    # Split the data into training and validation sets\n",
    "    features_train, features_valid, target_train, target_valid = train_test_split(\n",
    "        features, target, test_size=test_size, random_state=random_state\n",
    "    )\n",
    "    \n",
    "    return features_train, features_valid, target_train, target_valid"
   ]
  },
  {
   "cell_type": "markdown",
   "id": "aa5e9d6c-7e6d-45b1-8cfa-4645e36a3c10",
   "metadata": {},
   "source": [
    "### Call the split_data function"
   ]
  },
  {
   "cell_type": "code",
   "execution_count": 83,
   "id": "95566e57-a386-4475-8f9c-33cfa7299083",
   "metadata": {},
   "outputs": [],
   "source": [
    "features_train1, features_valid1, target_train1, target_valid1 = split_data(region1, feature_columns, target_column)\n",
    "features_train2, features_valid2, target_train2, target_valid2 = split_data(region2, feature_columns, target_column)\n",
    "features_train3, features_valid3, target_train3, target_valid3 = split_data(region3, feature_columns, target_column)"
   ]
  },
  {
   "cell_type": "code",
   "execution_count": 84,
   "id": "f7252bbf-5683-49b0-9c78-b825ce9bdccc",
   "metadata": {},
   "outputs": [
    {
     "data": {
      "text/plain": [
       "74997"
      ]
     },
     "execution_count": 84,
     "metadata": {},
     "output_type": "execute_result"
    }
   ],
   "source": [
    "len(features_train2)"
   ]
  },
  {
   "cell_type": "code",
   "execution_count": 85,
   "id": "11f9b626-73ab-4311-9d7b-11b0bbcf6b00",
   "metadata": {},
   "outputs": [
    {
     "data": {
      "text/plain": [
       "24999"
      ]
     },
     "execution_count": 85,
     "metadata": {},
     "output_type": "execute_result"
    }
   ],
   "source": [
    "len(features_valid2)"
   ]
  },
  {
   "cell_type": "code",
   "execution_count": 86,
   "id": "34b0f9ca-9091-4356-adfb-c58624594525",
   "metadata": {},
   "outputs": [
    {
     "data": {
      "text/plain": [
       "74997"
      ]
     },
     "execution_count": 86,
     "metadata": {},
     "output_type": "execute_result"
    }
   ],
   "source": [
    "len(target_train2)"
   ]
  },
  {
   "cell_type": "code",
   "execution_count": 87,
   "id": "537a5ae1-7449-4e69-b69e-264df65f11f0",
   "metadata": {},
   "outputs": [
    {
     "data": {
      "text/plain": [
       "24999"
      ]
     },
     "execution_count": 87,
     "metadata": {},
     "output_type": "execute_result"
    }
   ],
   "source": [
    "len(target_valid2)"
   ]
  },
  {
   "cell_type": "markdown",
   "id": "0061c30a-5fdd-4f59-93a2-8c8ad10181c9",
   "metadata": {},
   "source": [
    "- <b>Features: variables (input data) used to make predictions.</b>\n",
    "<br>\n",
    "- <b>Target:  variable (output data) that I am trying to predict.</b>"
   ]
  },
  {
   "cell_type": "markdown",
   "id": "e40bd845-9dc5-4e66-b9c3-db7839ccc1d3",
   "metadata": {},
   "source": [
    "<H3>Purpose of Each Split</H3>\n",
    "<br>\n",
    "1. <b>features_train:</b> 75% of the feature data.\n",
    "<br>\n",
    "Purpose: Used to train the machine learning model. The model learns the patterns and relationships within this data.\n",
    "<br>\n",
    "<br>\n",
    "2. <b>features_valid:</b> 25% of the feature data.\n",
    "<br>\n",
    "Purpose: Used to validate the model’s performance. This data is not seen by the model during training, providing an unbiased evaluation of the model’s predictive performance.\n",
    "\n",
    "<br>   \n",
    "<br>\n",
    "3. <b>target_train:</b> 75% of the target data.\n",
    "<br>\n",
    "Purpose: Represents the actual target values corresponding to features_train. The model uses this data during training to learn the mapping from features to target values.\n",
    "<br>\n",
    "<br>\n",
    "4. <b>target_valid:</b> 25% of the target data.<br>\n",
    "Purpose: Represents the actual target values corresponding to features_valid. Used to evaluate the model’s performance by comparing the model's predictions to these actual values."
   ]
  },
  {
   "cell_type": "markdown",
   "id": "98a445ac-1ca9-41ea-bfb4-a21bf4ade83d",
   "metadata": {},
   "source": [
    "<div style=\"color: red; padding: 10px;\">\n",
    "    <h3>Create / Fit / Evaluate the Models:</h3>\n",
    "</div>"
   ]
  },
  {
   "cell_type": "code",
   "execution_count": 91,
   "id": "ec5e04eb-c9c0-4601-ad9f-46680c978a87",
   "metadata": {},
   "outputs": [],
   "source": [
    "def train_and_evaluate(features_train_scaled, features_valid_scaled, target_train, target_valid):\n",
    "    # Initialize the model\n",
    "    model = LinearRegression()\n",
    "    \n",
    "    # Train the model\n",
    "    model.fit(features_train_scaled, target_train)\n",
    "    \n",
    "    # Predict on the validation set\n",
    "    predictions = model.predict(features_valid_scaled)\n",
    "    \n",
    "    # Calculate RMSE\n",
    "    rmse = np.sqrt(mean_squared_error(target_valid, predictions))\n",
    "    \n",
    "    # Calculate the average volume of predicted reserves\n",
    "    avg_reserves = np.mean(predictions)\n",
    "    \n",
    "    # Return the model and the RMSE\n",
    "    return model, rmse, avg_reserves, predictions"
   ]
  },
  {
   "cell_type": "markdown",
   "id": "04a57487-1907-43c3-ad21-6ca97c5fd435",
   "metadata": {},
   "source": [
    "<div style=\"color: red; padding: 10px;\">\n",
    "    <h3>Call the Train / Evaluate function:</h3>\n",
    "</div>"
   ]
  },
  {
   "cell_type": "code",
   "execution_count": 93,
   "id": "d9ca0a5d-0702-4dce-9640-d0ef221249e5",
   "metadata": {},
   "outputs": [
    {
     "name": "stdout",
     "output_type": "stream",
     "text": [
      "\u001b[94mRegion 1 RMSE: 37.85\n",
      "Average Predicted Reserves: 92.79\u001b[0m\n"
     ]
    }
   ],
   "source": [
    "# Train and evaluate region 1 using scaled features\n",
    "model1, rmse1, avg_reserves1, predictions1 = train_and_evaluate(features_train1, features_valid1, target_train1, target_valid1)\n",
    "print(f\"\\033[94mRegion 1 RMSE: {rmse1:.2f}\\nAverage Predicted Reserves: {avg_reserves1:.2f}\\033[0m\")\n"
   ]
  },
  {
   "cell_type": "code",
   "execution_count": 94,
   "id": "2bd77e23-0726-4359-b231-735a459a7283",
   "metadata": {},
   "outputs": [
    {
     "name": "stdout",
     "output_type": "stream",
     "text": [
      "\u001b[32mRegion 2 RMSE: 0.89\n",
      "Average Predicted Reserves: 69.18\u001b[0m\n"
     ]
    }
   ],
   "source": [
    "# Train and evaluate region 2\n",
    "model2, rmse2, avg_reserves2, predictions2 = train_and_evaluate(features_train2, features_valid2, target_train2, target_valid2)\n",
    "print(colored(f\"Region 2 RMSE: {rmse2:.2f}\\nAverage Predicted Reserves: {avg_reserves2:.2f}\", 'green'))\n"
   ]
  },
  {
   "cell_type": "code",
   "execution_count": 95,
   "id": "cb5621cd-7d29-4908-8962-669e8a9a85f9",
   "metadata": {},
   "outputs": [
    {
     "name": "stdout",
     "output_type": "stream",
     "text": [
      "\u001b[38;5;208mRegion 3 RMSE: 40.08\n",
      "Average Predicted Reserves: 94.87\u001b[0m\n"
     ]
    }
   ],
   "source": [
    "# Train and evaluate region 3\n",
    "model3, rmse3, avg_reserves3, predictions3 = train_and_evaluate(features_train3, features_valid3, target_train3, target_valid3)\n",
    "print(f\"\\033[38;5;208mRegion 3 RMSE: {rmse3:.2f}\\nAverage Predicted Reserves: {avg_reserves3:.2f}\\033[0m\")"
   ]
  },
  {
   "cell_type": "markdown",
   "id": "be98aa8c-cf0d-49d4-8571-aeec2de07f41",
   "metadata": {},
   "source": [
    "### RMSE outcomes(considering that the scale of the vol_reserves data is pretty low):\n",
    "\n",
    "- region 1's RMSE score, of 37.85 is poor. There is high error in the model.\n",
    "- region 2's RMSE score, of 0.89 is great. There is a very small error in the predictions.\n",
    "- region 3's RMSE score, of 40 is poor. There is high error in the model.\n",
    "\n",
    "### Predicted oil reserves outcome:\n",
    "\n",
    "- Region 1 and region3 have the highest level of predicted oil reserves.\n",
    "- Region 2 had the lowest predicted level of oil reserves."
   ]
  },
  {
   "cell_type": "markdown",
   "id": "390e184c",
   "metadata": {},
   "source": [
    "<div class=\"alert alert-success\">\n",
    "<b>Reviewer's comment V1</b>\n",
    "\n",
    "Well done!\n",
    "\n",
    "</div>"
   ]
  },
  {
   "cell_type": "markdown",
   "id": "f80b34d6-1ebe-4a7c-82f1-c20cf57674c4",
   "metadata": {},
   "source": [
    "<div style=\"color: red; padding: 10px;\">\n",
    "    <h3>Pick the top 200 wells, from each region, with the highest values of predictions:</h3>\n",
    "</div>"
   ]
  },
  {
   "cell_type": "code",
   "execution_count": 99,
   "id": "ded093e8-0dab-4276-8186-1f16ba08d607",
   "metadata": {},
   "outputs": [],
   "source": [
    "#find the top 200 predictions for each set of predictions\n",
    "#take the predictions from the model for each region\n",
    "def get_top_n_predictions(predictions, top_n=200):\n",
    "    # sort the predictions in descending order\n",
    "    sorted_predictions = sorted(predictions, reverse=True)\n",
    "    \n",
    "    # get the top 200 predictions\n",
    "    top_predictions = sorted_predictions[:top_n]\n",
    "    return top_predictions"
   ]
  },
  {
   "cell_type": "code",
   "execution_count": 100,
   "id": "c13be453-f692-4894-ac4c-ad3c41e42b82",
   "metadata": {},
   "outputs": [],
   "source": [
    "# Call the get_top_n_predictions function for each region \n",
    "top_n = 200\n",
    "top_wells_high_val_pred1 = get_top_n_predictions(predictions1, top_n)\n",
    "top_wells_high_val_pred2 = get_top_n_predictions(predictions2, top_n)\n",
    "top_wells_high_val_pred3 = get_top_n_predictions(predictions3, top_n)"
   ]
  },
  {
   "cell_type": "code",
   "execution_count": 101,
   "id": "1f94913b-ab86-4b68-a8e9-86aa19005a0f",
   "metadata": {},
   "outputs": [
    {
     "name": "stdout",
     "output_type": "stream",
     "text": [
      "[195.4677822434477, 176.29639458834419, 176.14101597424934, 173.65209220087206, 171.60114500994712, 170.06424104800575, 168.92763939374953, 168.47555018495518, 167.51727490188543, 166.81784232902623, 166.67046610281966, 166.2112262708947, 165.6081858491106, 165.21408397416883, 165.0965624458903, 165.0256089088159, 164.97812897153136, 164.43258267247188, 164.05272844544248, 164.02290933264572, 163.9093487629548, 163.65847486647175, 162.95883179962823, 162.94275625648729, 162.56502269303738, 162.46579863456904, 162.2641625144177, 162.1310432747408, 162.0706946463654, 161.5679597760672, 161.40512866202425, 161.304605051622, 161.29142229542737, 161.2469418632464, 161.032086981877, 160.8865847499274, 160.76073812147712, 160.6332228070436, 160.50688866743155, 160.4050676444537, 160.17859614013386, 160.13905629109115, 160.00099606410356, 159.8521981501547, 159.06610176640498, 158.66972349087925, 158.62800028879718, 158.37288658484817, 158.36729057539395, 158.31507631308867, 157.88426845517898, 157.7345221197769, 157.60554048561008, 157.48444488186254, 157.46041238558732, 157.40690839993815, 157.2519341278683, 157.15160195894134, 157.131611693563, 156.99617945669092, 156.98261116532558, 156.91805055940335, 156.91262595235406, 156.5828348953367, 156.41456687668216, 156.40182407571757, 156.26137486831817, 156.11366460027534, 156.0380728837148, 155.90170613941982, 155.8414287875858, 155.71267271620246, 155.6737426527052, 155.63185124676397, 155.61834501429965, 155.55213492175028, 155.42823172840764, 155.23947185385256, 155.2390912088452, 155.18674729054905, 154.96060699499884, 154.8811060424291, 154.86710411598057, 154.83883071374038, 154.83663243729603, 154.79013396996407, 154.78403540494315, 154.75981020049826, 154.60865455506297, 154.59596820474792, 154.58497584276637, 154.574243225188, 154.3821350101466, 154.34019177816995, 154.27762500216545, 154.25551297232215, 154.1439789644961, 154.12340376909629, 153.74863888781994, 153.6419245858164, 153.6094001228958, 153.5212188393001, 153.44743737136199, 153.4150761428304, 153.0580948049373, 153.05285451760227, 153.0023137029789, 152.97307726283069, 152.93445821147748, 152.92909833947425, 152.8982837022898, 152.87253291497905, 152.8601492091862, 152.78578220139576, 152.66685725408922, 152.58418835989855, 152.48010873669904, 152.40954131503918, 152.37845674986065, 152.25680591807594, 152.25265252195607, 152.2420415993543, 152.24051959815807, 152.13191914812222, 152.12404672689706, 152.0616117783585, 152.04052397630255, 151.96488657653782, 151.94936617189444, 151.8863922310403, 151.7506341893523, 151.74045956633947, 151.73697614845747, 151.68065986275184, 151.59703601731638, 151.58571355591513, 151.53633092766256, 151.42655128425946, 151.1784830546472, 151.1606837081101, 151.13379013071017, 151.0169731294964, 150.96020780715742, 150.9376521695575, 150.91417294247438, 150.79645521010156, 150.7484059377236, 150.73526580235205, 150.73433422056416, 150.70039333540032, 150.687652538635, 150.65046191846358, 150.58538852627106, 150.51874151256303, 150.49750071264094, 150.32075598049886, 150.2994013614762, 150.29789198912346, 150.1848159113859, 150.17567419417094, 150.13876555812448, 149.9418555233387, 149.91662938872037, 149.81781339549542, 149.81588061973073, 149.80114817766787, 149.69651892966414, 149.69404775119716, 149.6527136670918, 149.6198279904817, 149.58625053712638, 149.5848827998529, 149.56501150191377, 149.47168852559273, 149.46174962014055, 149.45991746677288, 149.4055953033189, 149.3560627192635, 149.3490272509904, 149.32903859596058, 149.28604934392558, 149.24983950274458, 149.21026335779288, 149.04886935222808, 148.97323434706433, 148.8975577202546, 148.87910329087728, 148.78753497352457, 148.72522019606743, 148.52113854216097, 148.48873752288017, 148.45382524908047, 148.43937614229478, 148.28996823277407, 148.28540823270623, 148.27620140016433, 148.26488134315406, 148.22746755574576, 148.2092732409385, 148.16922508900592]\n"
     ]
    }
   ],
   "source": [
    "print(top_wells_high_val_pred1[:200])"
   ]
  },
  {
   "cell_type": "code",
   "execution_count": 102,
   "id": "a850277b-e284-4fcb-8206-f09d1ad317c5",
   "metadata": {},
   "outputs": [
    {
     "name": "stdout",
     "output_type": "stream",
     "text": [
      "\n",
      "\n",
      "\u001b[1m\u001b[38;2;0;0;255mOf the top 200 wells in region1, this is the amount of reserves in the lowest-performing well:\u001b[0m\n",
      "\u001b[1m\u001b[38;2;0;0;255m148.17\u001b[0m\n",
      "\n",
      "\n",
      "\u001b[1m\u001b[38;2;0;0;255mPredicted mean of Region1 top 200 wells:\u001b[0m\n",
      "\u001b[1m\u001b[38;2;0;0;255m155.35\u001b[0m\n"
     ]
    }
   ],
   "source": [
    "# ANSI escape code for bold and blue\n",
    "blue_bold = \"\\033[1m\\033[38;2;0;0;255m\"  # Bold and blue color\n",
    "reset = \"\\033[0m\"  # Reset text formatting to default\n",
    "\n",
    "min_value1 = min(top_wells_high_val_pred1)\n",
    "\n",
    "print('\\n')\n",
    "print(f\"{blue_bold}Of the top 200 wells in region1, this is the amount of reserves in the lowest-performing well:{reset}\")\n",
    "print(f\"{blue_bold}{min_value1:.2f}{reset}\")\n",
    "\n",
    "print('\\n')\n",
    "print(f\"{blue_bold}Predicted mean of Region1 top 200 wells:{reset}\")\n",
    "mean_prediction1 = np.mean(top_wells_high_val_pred1)\n",
    "\n",
    "print(f\"{blue_bold}{mean_prediction1:.2f}{reset}\")"
   ]
  },
  {
   "cell_type": "code",
   "execution_count": 103,
   "id": "111ed2aa-bc40-47f6-9561-a58e1ebf6dea",
   "metadata": {},
   "outputs": [
    {
     "name": "stdout",
     "output_type": "stream",
     "text": [
      "[139.9758316846204, 139.89452206537683, 139.84666732545247, 139.76604839955806, 139.6961658798282, 139.56498774497567, 139.55390373642376, 139.50916427596164, 139.4742841676624, 139.46603445717992, 139.4396521245402, 139.41736592157656, 139.38303473947238, 139.3816507771531, 139.3630285427325, 139.30465036458418, 139.2860389347805, 139.26164072085982, 139.24379834329523, 139.17913252509007, 139.15869387261267, 139.13677797340034, 139.1147863997819, 139.10838347325782, 139.0981688966162, 139.08427336492127, 139.0790669430156, 139.07295162217812, 139.0486058319166, 139.04593271639342, 139.02860639264296, 139.02170852712118, 139.0160697372968, 139.01289007208118, 139.00282337325717, 138.99983208966455, 138.99589332754715, 138.99455853588964, 138.98233193172965, 138.98133753556195, 138.97353433086317, 138.96220813124577, 138.94721837357162, 138.94480645742158, 138.94281902937993, 138.9275019654979, 138.92498977023266, 138.91844527060692, 138.90142084470438, 138.89986871781522, 138.8910430360845, 138.88496559047616, 138.88351326083972, 138.8808505321591, 138.8762546163529, 138.8671636371886, 138.85619040280477, 138.8532171117331, 138.8526612796328, 138.82689441117708, 138.8192682741166, 138.81223032554365, 138.80602320884438, 138.80521388516578, 138.80230754106822, 138.79353126948487, 138.7841403063989, 138.78325216669674, 138.78290448522299, 138.77683414604144, 138.77661787385767, 138.7759516058536, 138.7684673348073, 138.76814509228765, 138.7657043807369, 138.75657709474228, 138.75066677577672, 138.73753602372867, 138.73579139270768, 138.73077535023452, 138.72529856868144, 138.72333070131896, 138.71547036998075, 138.70980242501705, 138.7081131948805, 138.6977132484388, 138.69752477742466, 138.6928350956242, 138.681554181794, 138.67897242230694, 138.678003594575, 138.67589983702752, 138.67581274839182, 138.6670097123749, 138.6581933936324, 138.6412809417816, 138.64018864309077, 138.62951384466814, 138.62727728800957, 138.6241537469566, 138.62068911873138, 138.61983087454797, 138.6182315580041, 138.61692843498557, 138.60141728403406, 138.5955474664496, 138.59311705506659, 138.589727057402, 138.58749391350327, 138.5862533647797, 138.57813146744203, 138.5753489839665, 138.5700034073867, 138.56844946477435, 138.5662976156557, 138.56448013159778, 138.56248027427063, 138.5583282029034, 138.55778407261556, 138.55276102796654, 138.55032911533965, 138.54878114437935, 138.54842920202498, 138.54727121307621, 138.5458069621792, 138.540444204388, 138.53929987548935, 138.53865169899203, 138.53446405149154, 138.53425402880174, 138.5320473403286, 138.5316121168032, 138.53151669001835, 138.52840401391373, 138.52676203654713, 138.51913382687476, 138.518192759005, 138.51529091709682, 138.51398700059178, 138.51289881466113, 138.51282895362633, 138.50939427970997, 138.50892906708808, 138.5059030902262, 138.50338708577777, 138.5025053896207, 138.50213074339567, 138.49954567947353, 138.4980452591901, 138.49685833258604, 138.4897506440915, 138.48044566174414, 138.474635464529, 138.47354514270344, 138.47300322367937, 138.4724698933831, 138.472379818868, 138.46834615022252, 138.4653776679605, 138.46369556691363, 138.46359262900262, 138.45355799414756, 138.45347979123594, 138.45155888972315, 138.45122714774575, 138.43879802489627, 138.43878664261368, 138.43845851529247, 138.43659847647078, 138.4332851730556, 138.4328213137242, 138.43272728243812, 138.42300332469912, 138.42246224362898, 138.4219561145913, 138.42080024287145, 138.42008953698246, 138.4200638598701, 138.4168981068119, 138.4156278421658, 138.41530973828313, 138.4133884063174, 138.41316357031542, 138.40783263262006, 138.4068788758571, 138.40536471662233, 138.40433317030144, 138.40118141814435, 138.4007490310908, 138.39912292204752, 138.39495812972115, 138.39204066465427, 138.3874776365747, 138.3863129202751, 138.38337215027155, 138.38324110970402, 138.38158827726878, 138.38005386942177, 138.37971582943905, 138.37906221493745]\n"
     ]
    }
   ],
   "source": [
    "print(top_wells_high_val_pred2[:200])"
   ]
  },
  {
   "cell_type": "code",
   "execution_count": 104,
   "id": "6ef972e8-a463-4aad-aa48-78b0de89e073",
   "metadata": {},
   "outputs": [
    {
     "name": "stdout",
     "output_type": "stream",
     "text": [
      "\n",
      "\n",
      "\u001b[1m\u001b[38;2;50;205;50mOf the top 200 wells in region2, this is the amount of reserves in the lowest-performing well:\u001b[0m\n",
      "\u001b[1m\u001b[38;2;50;205;50m138.38\u001b[0m\n",
      "\n",
      "\n",
      "\u001b[1m\u001b[38;2;50;205;50mPredicted mean of Region2 top 200 wells:\u001b[0m\n",
      "\u001b[1m\u001b[38;2;50;205;50m138.73\u001b[0m\n"
     ]
    }
   ],
   "source": [
    "# RGB for lime green: (50, 205, 50)\n",
    "lime_green_bold = \"\\033[1m\\033[38;2;50;205;50m\"  # Bold and lime green color\n",
    "reset = \"\\033[0m\"  # Reset text formatting to default\n",
    "\n",
    "min_value2 = min(top_wells_high_val_pred2)\n",
    "\n",
    "print('\\n')\n",
    "print(f\"{lime_green_bold}Of the top 200 wells in region2, this is the amount of reserves in the lowest-performing well:{reset}\")\n",
    "print(f\"{lime_green_bold}{min_value2:.2f}{reset}\")\n",
    "\n",
    "print('\\n')\n",
    "print(f\"{lime_green_bold}Predicted mean of Region2 top 200 wells:{reset}\")\n",
    "mean_prediction2 = np.mean(top_wells_high_val_pred2)\n",
    "\n",
    "print(f\"{lime_green_bold}{mean_prediction2:.2f}{reset}\")\n"
   ]
  },
  {
   "cell_type": "code",
   "execution_count": 105,
   "id": "e8809074-57a3-4215-9649-2a6835d89919",
   "metadata": {},
   "outputs": [
    {
     "name": "stdout",
     "output_type": "stream",
     "text": [
      "[174.23741449493411, 173.16733448131657, 170.81604438871273, 166.60508580889308, 165.9892734194852, 162.54601715545, 162.38941617618826, 161.4474180092025, 161.12954231753997, 160.6910586523795, 160.6585989902033, 159.78697309921492, 159.51706368131184, 159.5022618037765, 158.58348550932223, 157.95890771641518, 157.92594453532428, 157.64283623497803, 157.33930987345784, 156.67167984748738, 156.6358583000399, 156.57901806728674, 156.46799185947737, 156.44373208458347, 156.28406752344887, 154.88795231190414, 154.8645063739961, 154.82756792628135, 154.4961705688453, 154.47028035413717, 154.43208751021064, 154.20775941253, 154.1921587011104, 153.97342949535434, 153.19495528456588, 153.0315014251084, 152.89692124168297, 152.7860798291186, 152.77730572023182, 152.58309171126427, 152.4005125363986, 152.1321168340942, 152.11471449716925, 152.07320696712094, 151.59912968577189, 151.45220501670235, 151.2878090856838, 151.28494640170493, 151.05416809061063, 151.01220730078717, 150.83782869605392, 150.71188344513493, 150.65225638304662, 150.3844304649602, 150.03892004716243, 150.01160913472643, 150.01154825355889, 149.92711881243764, 149.60729481652106, 149.5513233382773, 149.5392575396234, 149.36166238125665, 149.24144522762913, 149.07743588401925, 149.03050424769432, 148.99850124788676, 148.93903480569244, 148.8298603658994, 148.79650067462057, 148.53956116945642, 148.52170472070526, 148.49184030418263, 148.43498901790912, 148.3890141399816, 148.2474991710506, 147.92203552470096, 147.87070592689292, 147.8265112343797, 147.7214079878858, 147.69068539151812, 147.568851057387, 147.56634961877774, 147.54882417577033, 147.41649012945123, 147.24463984357658, 147.23450479958177, 147.1712094103412, 147.15083538368964, 147.10663442553002, 147.09719011351956, 147.0750694956103, 147.06586221656767, 147.0219633877038, 147.01217142192604, 146.88888357769952, 146.68767007890636, 146.68525274017378, 146.64751153076176, 146.53154235797493, 146.41172766896824, 146.37849682693468, 146.37407264475382, 146.34960588516208, 146.21759101177466, 146.1164386813594, 146.08260218848113, 146.06162008791787, 146.02680878312634, 146.0189841279455, 146.01545136597633, 145.9523590794638, 145.85602554891744, 145.79980304303683, 145.7551993496678, 145.74997155606275, 145.72666735920103, 145.67169764629165, 145.65641669970182, 145.55330695472145, 145.54451740879165, 145.5209401137961, 145.51088253344767, 145.48687628204948, 145.40878350919115, 145.274281047206, 145.19587351558368, 145.19081264444316, 145.16293364020692, 145.14210798130787, 145.10557778080215, 145.055902879909, 145.0235795708959, 145.00075237879437, 144.9183089440508, 144.9094678608384, 144.87512264773756, 144.85691472500855, 144.82892259417724, 144.65596208270688, 144.65490401609605, 144.5328640279689, 144.51578609515767, 144.4815032790057, 144.44150648256644, 144.43869255687815, 144.36209858641337, 144.3464283109128, 144.28221524184892, 144.19124341084643, 144.13434502591375, 144.12831637818542, 143.9756056332085, 143.972674617437, 143.93467887834726, 143.85236939130007, 143.82431818989386, 143.82037616532625, 143.7981073582919, 143.7597941987293, 143.73683660964807, 143.72783499367333, 143.7097962725382, 143.68074480573594, 143.65900789419527, 143.6115710876663, 143.56719101943142, 143.5170909126764, 143.47668437483068, 143.4714680694374, 143.458137804572, 143.44580772447515, 143.35283251276473, 143.32891328507833, 143.32625551233258, 143.23767555439645, 143.23203351957918, 143.1872167486888, 143.1816962321514, 143.17162150001982, 143.1496106546745, 143.118338653134, 143.11193430576367, 143.1057143339603, 143.05566095009303, 143.0440891018947, 143.01980326187027, 143.0042636198001, 142.99645357582614, 142.9862856891533, 142.98292117437302, 142.92825063676503, 142.8962899086868, 142.86635469377848, 142.7926082190263, 142.77697313598355, 142.7531135087862, 142.73497330818805, 142.71313812265257, 142.697854604115, 142.68527494271822]\n"
     ]
    }
   ],
   "source": [
    "print(top_wells_high_val_pred3[:200])"
   ]
  },
  {
   "cell_type": "code",
   "execution_count": 106,
   "id": "118c344f-e6c8-491c-82f4-484ef760ce60",
   "metadata": {},
   "outputs": [
    {
     "name": "stdout",
     "output_type": "stream",
     "text": [
      "\n",
      "\n",
      "\u001b[1m\u001b[38;2;255;165;0mOf the top 200 wells in region3, this is the amount of reserves in the lowest-performing well:\u001b[0m\n",
      "\u001b[1m\u001b[38;2;255;165;0m142.69\u001b[0m\n",
      "\n",
      "\n",
      "\u001b[1m\u001b[38;2;255;165;0mPredicted mean of Region3 top 200 wells:\u001b[0m\n",
      "\u001b[1m\u001b[38;2;255;165;0m148.48\u001b[0m\n"
     ]
    }
   ],
   "source": [
    "# RGB for orange: (255, 165, 0)\n",
    "orange_bold = \"\\033[1m\\033[38;2;255;165;0m\"  # Bold and orange color\n",
    "reset = \"\\033[0m\"  # Reset text formatting to default\n",
    "\n",
    "min_value3 = min(top_wells_high_val_pred3)\n",
    "\n",
    "print('\\n')\n",
    "print(f\"{orange_bold}Of the top 200 wells in region3, this is the amount of reserves in the lowest-performing well:{reset}\")\n",
    "print(f\"{orange_bold}{min_value3:.2f}{reset}\")\n",
    "\n",
    "print('\\n')\n",
    "print(f\"{orange_bold}Predicted mean of Region3 top 200 wells:{reset}\")\n",
    "mean_prediction3 = np.mean(top_wells_high_val_pred3)\n",
    "\n",
    "print(f\"{orange_bold}{mean_prediction3:.2f}{reset}\")"
   ]
  },
  {
   "cell_type": "markdown",
   "id": "020968d1-44f2-4fb7-a307-7c55d99ea7fd",
   "metadata": {},
   "source": [
    "#### Region1 has the highest predicted oil reserves. Region3 is in 2nd place. Region2 has the lowest predicted oil reserves."
   ]
  },
  {
   "cell_type": "markdown",
   "id": "af5c1154-df57-416f-ad71-c7f0ce562f26",
   "metadata": {},
   "source": [
    "<div style=\"color: red; padding: 10px;\">\n",
    "    <h3>Calculate the volume of reserves sufficient for developing 200 new wells without losses:</h3>\n",
    "</div>"
   ]
  },
  {
   "cell_type": "code",
   "execution_count": 109,
   "id": "7c1e7e71-a2ab-4b16-bb21-6a6b4ca9d215",
   "metadata": {},
   "outputs": [],
   "source": [
    "# Define CONSTANT variables (these are immutable)\n",
    "BUDGET_TOTAL = 100000000\n",
    "\n",
    "#budget is for 200 wells\n",
    "NUMBER_OF_WELLS = 200\n",
    "\n",
    "BUDGET_PER_OIL_WELL = BUDGET_TOTAL / NUMBER_OF_WELLS  \n",
    "\n",
    "#revenue per barrel\n",
    "REV_PER_BARREL = 4.5\n",
    "\n",
    "#Revenue per well\n",
    "REV_PER_UNIT = REV_PER_BARREL * 1000"
   ]
  },
  {
   "cell_type": "code",
   "execution_count": 110,
   "id": "49648a49-8c49-4257-9ed7-30fe2dcf089b",
   "metadata": {},
   "outputs": [
    {
     "name": "stdout",
     "output_type": "stream",
     "text": [
      "\n",
      "\n",
      "\u001b[1mBudget per oil well: 500000.0\u001b[0m\n",
      "\u001b[1mRevenue per (full to capacity) oil well: 4500.0\u001b[0m\n",
      "\n",
      "\n"
     ]
    }
   ],
   "source": [
    "# ANSI escape code for bold\n",
    "bold = \"\\033[1m\"\n",
    "reset = \"\\033[0m\"  # Reset text formatting to default\n",
    "\n",
    "print('\\n')\n",
    "print(f\"{bold}Budget per oil well: {BUDGET_PER_OIL_WELL}{reset}\")\n",
    "print(f\"{bold}Revenue per (full to capacity) oil well: {REV_PER_UNIT}{reset}\")\n",
    "print('\\n')"
   ]
  },
  {
   "cell_type": "code",
   "execution_count": 111,
   "id": "a4ad4b27-8848-4130-9c61-b83cd4f4f245",
   "metadata": {},
   "outputs": [
    {
     "name": "stdout",
     "output_type": "stream",
     "text": [
      "\n",
      "\n",
      "\u001b[1mMinimum average volume of reserves for development without losses: 111.11 (per projected oil well)\u001b[0m\n",
      "\n",
      "\n"
     ]
    }
   ],
   "source": [
    "#Avg vol of vol of reserves needed to break even, per well.\n",
    "min_reserve_vol = BUDGET_TOTAL / REV_PER_UNIT / NUMBER_OF_WELLS\n",
    "\n",
    "print('\\n')\n",
    "print(f\"{bold}Minimum average volume of reserves for development without losses: {min_reserve_vol:,.2f} (per projected oil well){reset}\")\n",
    "print('\\n')"
   ]
  },
  {
   "cell_type": "markdown",
   "id": "5cf382e2-17d7-4c43-a82d-815c1b293b80",
   "metadata": {},
   "source": [
    "#### All 3 regions's top 200 predicted oil wells meet the required minimum ( of 111.11 volume of reserves )"
   ]
  },
  {
   "cell_type": "markdown",
   "id": "ccfb642a",
   "metadata": {},
   "source": [
    "<div class=\"alert alert-success\">\n",
    "<b>Reviewer's comment V1</b>\n",
    "\n",
    "Correct\n",
    "\n",
    "</div>"
   ]
  },
  {
   "cell_type": "markdown",
   "id": "8e8adf72-2b11-4cf5-932e-23461831a5a6",
   "metadata": {},
   "source": [
    "<div style=\"color: red; padding: 10px;\">\n",
    "    <h3>Profit Calculation:</h3>\n",
    "</div>"
   ]
  },
  {
   "cell_type": "code",
   "execution_count": 115,
   "id": "619beef7-c93e-4007-9492-356aef546ac7",
   "metadata": {},
   "outputs": [],
   "source": [
    "def profit(predictions, targets):\n",
    "    assert len(predictions) == len(targets), \"Predictions and targets must be the same length\"\n",
    "    \n",
    "    # Ensure that indices are correctly aligned to maximize evaluation success\n",
    "    sorted_indices = np.argsort(predictions)[-NUMBER_OF_WELLS:]\n",
    "    selected_product = pd.Series(np.take(targets.values, sorted_indices), index=sorted_indices)\n",
    "    \n",
    "    # Calculate total revenue and profit\n",
    "    total_volume = selected_product.sum()\n",
    "    revenue = total_volume * REV_PER_UNIT\n",
    "    calculated_profit = revenue - BUDGET_TOTAL\n",
    "    \n",
    "    return calculated_profit"
   ]
  },
  {
   "cell_type": "markdown",
   "id": "bc3127b5-573e-4a67-b61e-ba0382bae90c",
   "metadata": {},
   "source": [
    "<div style=\"color: red; padding: 10px;\">\n",
    "    <h3>Call the Profit function:</h3>\n",
    "</div>"
   ]
  },
  {
   "cell_type": "code",
   "execution_count": 117,
   "id": "26cdf319-cccd-4b1f-a6eb-2e2c9ce1f6f9",
   "metadata": {},
   "outputs": [
    {
     "name": "stdout",
     "output_type": "stream",
     "text": [
      "Profit for Region 1: $33,651,872.38\n",
      "Profit for Region 2: $24,150,866.97\n",
      "Profit for Region 3: $25,012,838.53\n"
     ]
    }
   ],
   "source": [
    "# Calculate profit for each region\n",
    "profit_region1 = profit(predictions1, target_valid1)\n",
    "profit_region2 = profit(predictions2, target_valid2)\n",
    "profit_region3 = profit(predictions3, target_valid3)\n",
    "\n",
    "print(f\"Profit for Region 1: ${profit_region1:,.2f}\")\n",
    "print(f\"Profit for Region 2: ${profit_region2:,.2f}\")\n",
    "print(f\"Profit for Region 3: ${profit_region3:,.2f}\")"
   ]
  },
  {
   "cell_type": "markdown",
   "id": "999fa53f-870d-4501-b759-f59c410d96d7",
   "metadata": {},
   "source": [
    "#### Region 1 is predicted to be the most profitable region."
   ]
  },
  {
   "cell_type": "markdown",
   "id": "f67c2bec-85fb-4967-ba15-0adc4a140a66",
   "metadata": {},
   "source": [
    "All three regions will yield a profit with these sites. However, the top 200 sites will not be picked from the total list, but from a set of 500. Region 1 looks like the best site, in terms of profit. However, I still need to factor in the risk introduced by the imperfect prediction systems. I will next caluclate risk with bootstrapping."
   ]
  },
  {
   "cell_type": "markdown",
   "id": "251cb75a",
   "metadata": {},
   "source": [
    "<div class=\"alert alert-success\">\n",
    "<b>Reviewer's comment V1</b>\n",
    "\n",
    "In general your function looks correct\n",
    "\n",
    "</div>"
   ]
  },
  {
   "cell_type": "markdown",
   "id": "c24b2fea-05e8-4feb-a50d-e10c65ca1f2d",
   "metadata": {},
   "source": [
    "<div class=\"alert alert-block alert-info\">\n",
    "<b>Deb's answer. #1 : </b> <a class=\"tocSkip\"></a>\n",
    "Thank you for letting me know to just train each region once. This time, I have used the model-train results from the original training, way up above, in the train_and_evaluate function.  \n",
    "</div>\n"
   ]
  },
  {
   "cell_type": "markdown",
   "id": "532bd03d-02a3-44f9-bd47-5959ac4c3147",
   "metadata": {},
   "source": [
    "<div class=\"alert alert-block alert-info\">\n",
    "<b>Deb's answer. #1 : </b> <a class=\"tocSkip\"></a>\n",
    "The instructions were a bit confusing for me, regarding \"500 points\". I am now only sampling 500, and not everything. Were the \"500 points\" supposed to happen during bootstrapping?  \n",
    "</div>"
   ]
  },
  {
   "cell_type": "markdown",
   "id": "2b6a7933",
   "metadata": {},
   "source": [
    "<div class=\"alert alert-success\">\n",
    "<b>Reviewer's comment V2</b>\n",
    "\n",
    "You need to sample 500 wells on each loop iterations. And you did correctly:)\n",
    "\n",
    "</div>"
   ]
  },
  {
   "cell_type": "markdown",
   "id": "47c75ebd-5cc0-4c38-a131-c1a5038762cd",
   "metadata": {},
   "source": [
    "## <div style=\"color: red; border: 2px solid yellow; display: inline-block;\">Bootstrapping:</div>"
   ]
  },
  {
   "cell_type": "markdown",
   "id": "0dc2d972-230e-47ed-a318-933a3577b06e",
   "metadata": {},
   "source": [
    "### Find the Distribution of Profit"
   ]
  },
  {
   "cell_type": "markdown",
   "id": "063de954-1f6f-46e3-a941-c9db52490f2a",
   "metadata": {},
   "source": [
    "Bootstrapping is a statistical method that involves resampling, with replacement, to create multiple datasets from the original data.\n",
    "\n",
    "- I will find the \"measure of uncertainty\", by getting the confidence interval.  Confidence intervals give an estimate of the uncertainty associated with a metric or prediction.\n",
    "\n",
    "- I will filter the regions by eliminating regions with risk of loss greater than 2.5\\%."
   ]
  },
  {
   "cell_type": "code",
   "execution_count": 126,
   "id": "3043e4c6-d590-4a75-8beb-c7250dceba91",
   "metadata": {},
   "outputs": [],
   "source": [
    "def bootstrap_profits_and_risk(model, features_valid, target_valid):\n",
    "    \n",
    "    profit_list = []  # Store profit results from each bootstrap iteration\n",
    "    num_iterations = 1000  # Number of bootstraps\n",
    "    \n",
    "    for _ in range(num_iterations):\n",
    "        # Bootstrap sampling on the validation set\n",
    "        indices = np.random.choice(len(features_valid), 500, replace=True)\n",
    "        features_valid_bootstrap = features_valid.iloc[indices]\n",
    "        target_valid_bootstrap = target_valid.iloc[indices]\n",
    "        \n",
    "        # Directly use the DataFrame to ensure the feature names are preserved\n",
    "        predictions = model.predict(features_valid_bootstrap)\n",
    "        \n",
    "        # Calculate the profit and append to the list\n",
    "        profit_value = profit(predictions, target_valid_bootstrap)\n",
    "        profit_list.append(profit_value)\n",
    "        \n",
    "    # Calculate the confidence intervals\n",
    "    ci_lower, ci_upper = np.percentile(profit_list, [2.5, 97.5])\n",
    "    \n",
    "    return np.array(profit_list), ci_lower, ci_upper\n"
   ]
  },
  {
   "cell_type": "markdown",
   "id": "5f5b8746-f482-4e87-b99c-27a2e47566f5",
   "metadata": {},
   "source": [
    "<div class=\"alert alert-block alert-info\">\n",
    "<b>Deb's answer. #1 : </b> <a class=\"tocSkip\"></a>\n",
    "The original trained model, from the train_and_evaluate function, from way earlier in the code, has been used as a parameter here(one for each region), when calling the new bootstrapping function. The results of the confidence interval, are now different than the last version of my code.\n",
    "</div>"
   ]
  },
  {
   "cell_type": "code",
   "execution_count": 128,
   "id": "cf82772e-da6f-4f40-b50f-cd2aecb962e3",
   "metadata": {},
   "outputs": [],
   "source": [
    "#this time calls the models from the original train function, way up above\n",
    "bootstrap_profits_region1, ci_lower1, ci_upper1 = bootstrap_profits_and_risk(model1, features_valid1, target_valid1)\n",
    "bootstrap_profits_region2, ci_lower2, ci_upper2 = bootstrap_profits_and_risk(model2, features_valid2, target_valid2)\n",
    "bootstrap_profits_region3, ci_lower3, ci_upper3 = bootstrap_profits_and_risk(model3, features_valid3, target_valid3)\n"
   ]
  },
  {
   "cell_type": "code",
   "execution_count": 129,
   "id": "3a2874b0-1d9f-452d-8b94-c05ff28b7439",
   "metadata": {},
   "outputs": [
    {
     "name": "stdout",
     "output_type": "stream",
     "text": [
      "Region 1 - There's a 95% chance that the actual profit will fall between roughly $-1.1 million and $9.5 million.\n",
      "Region 2 - There's a 95% chance that the actual profit will fall between roughly $0.8 million and $8.9 million.\n",
      "Region 3 - There's a 95% chance that the actual profit will fall between roughly $-1.8 million and $8.5 million.\n"
     ]
    }
   ],
   "source": [
    "# The term 1e6 is scientific notation for (10^6), which is equivalent to 1,000,000. \n",
    "print(f\"Region 1 - There's a 95% chance that the actual profit will fall between roughly ${ci_lower1/1e6:,.1f} million and ${ci_upper1/1e6:,.1f} million.\")\n",
    "print(f\"Region 2 - There's a 95% chance that the actual profit will fall between roughly ${ci_lower2/1e6:,.1f} million and ${ci_upper2/1e6:,.1f} million.\")\n",
    "print(f\"Region 3 - There's a 95% chance that the actual profit will fall between roughly ${ci_lower3/1e6:,.1f} million and ${ci_upper3/1e6:,.1f} million.\")\n",
    "\n"
   ]
  },
  {
   "cell_type": "markdown",
   "id": "150d4927-3b5c-4ebc-91e1-4e389d345573",
   "metadata": {},
   "source": [
    "<div class=\"alert alert-block alert-info\">\n",
    "<b>Deb's answer. #1 : </b> <a class=\"tocSkip\"></a>\n",
    "Markdown cell below has been re-written to reflect new numbers for the confidence interval. Region 2 confidence interval has not changed, since the last revision, but region 1 and 3 both have a higher upper-limit now, and region 3 has a lower lower-limit now.\n",
    "</div>"
   ]
  },
  {
   "cell_type": "markdown",
   "id": "c5f2ba1f-9cbd-4cd7-a585-b281cb9b71db",
   "metadata": {},
   "source": [
    "### Confidence Interval:"
   ]
  },
  {
   "cell_type": "markdown",
   "id": "ca74256f-8021-4371-8aad-d738efede4d9",
   "metadata": {},
   "source": [
    "- ### Region 1\n",
    "&nbsp; &nbsp; &nbsp; There's a 95% chance that the actual profit will fall between roughly `$-1.6 million` and `$9.3 million`.\n",
    "- ### Region 2\n",
    "&nbsp; &nbsp; &nbsp; There's a 95% chance that the actual profit will `$0.6 million` and `$8.6 million`. \n",
    "- ### Region 3\n",
    "&nbsp; &nbsp; &nbsp; There's a 95% chance that the actual profit will fall between roughly `$-2.0 million` and `$8.0 million`."
   ]
  },
  {
   "cell_type": "markdown",
   "id": "29b6699f-0d97-4686-8cbb-1ce785c848b1",
   "metadata": {},
   "source": [
    "<div style=\"color: red; padding: 10px;\">\n",
    "    <h3>Probability of Loss:</h3>\n",
    "</div>"
   ]
  },
  {
   "cell_type": "markdown",
   "id": "d2b6859f-a325-48a3-9b4f-57836a8b22ba",
   "metadata": {},
   "source": [
    "<div class=\"alert alert-block alert-info\">\n",
    "<b>Deb's answer. #1 : </b> <a class=\"tocSkip\"></a>\n",
    "The average profit variable was taken from the profit function.\n",
    "</div>"
   ]
  },
  {
   "cell_type": "code",
   "execution_count": 135,
   "id": "b4b733fb-02f5-42ba-8bc7-0f09944293ae",
   "metadata": {},
   "outputs": [
    {
     "name": "stdout",
     "output_type": "stream",
     "text": [
      "Region 1 - Average Profit: $33.7 million, Probability of Loss: 5.80%\n",
      "Region 2 - Average Profit: $24.2 million, Probability of Loss: 1.30%\n",
      "Region 3 - Average Profit: $25.0 million, Probability of Loss: 10.00%\n"
     ]
    }
   ],
   "source": [
    "probability_of_loss_region1 = np.mean(np.array(bootstrap_profits_region1) < 0) * 100\n",
    "probability_of_loss_region2 = np.mean(np.array(bootstrap_profits_region2) < 0) * 100\n",
    "probability_of_loss_region3 = np.mean(np.array(bootstrap_profits_region3) < 0) * 100\n",
    "\n",
    "#First variable taken from the profit function.\n",
    "print(f\"Region 1 - Average Profit: ${profit_region1 / 1e6:,.1f} million, Probability of Loss: {probability_of_loss_region1:.2f}%\")\n",
    "print(f\"Region 2 - Average Profit: ${profit_region2 / 1e6:,.1f} million, Probability of Loss: {probability_of_loss_region2:.2f}%\")\n",
    "print(f\"Region 3 - Average Profit: ${profit_region3 / 1e6:,.1f} million, Probability of Loss: {probability_of_loss_region3:.2f}%\")\n",
    "\n"
   ]
  },
  {
   "cell_type": "markdown",
   "id": "1922b16d-e404-4901-8580-155df7437442",
   "metadata": {},
   "source": [
    "<div style=\"color: red; padding: 10px;\">\n",
    "    <h3>Select the region with the highest predicted profit, AND loss equal or lower than 2.5%:</h3>\n",
    "</div>"
   ]
  },
  {
   "cell_type": "code",
   "execution_count": 137,
   "id": "2419d53a-2f2f-4888-a732-2221407c822d",
   "metadata": {},
   "outputs": [
    {
     "name": "stdout",
     "output_type": "stream",
     "text": [
      "No region meets the criteria for development.\n"
     ]
    }
   ],
   "source": [
    "if profit_region1 > profit_region2 and profit_region1 > profit_region3 and probability_of_loss_region1 <= 2.5:\n",
    "    suggested_region = 1\n",
    "elif profit_region2 > profit_region3 and probability_of_loss_region2 <= 2.5:\n",
    "    suggested_region = 2\n",
    "else:\n",
    "    if probability_of_loss_region3 <= 2.5:\n",
    "        suggested_region = 3\n",
    "    else:\n",
    "        suggested_region = None  # Indicate no region meets the criteria\n",
    "        \n",
    "if suggested_region is not None:\n",
    "    print(f\"Suggested Region for new wells: Region {suggested_region}\")\n",
    "else:\n",
    "    print(\"No region meets the criteria for development.\")\n",
    "\n"
   ]
  },
  {
   "cell_type": "markdown",
   "id": "502f12f5",
   "metadata": {},
   "source": [
    "<div class=\"alert alert-danger\">\n",
    "<b>Reviewer's comment V1</b>\n",
    "\n",
    "1. You need to train ML model only once for each region. To do it, you need to use all the train data and not only 500 random wells. In such case you need to make a predictions for all the validation data only once for each region as well.\n",
    "2. Your results are not correct. The risk in each region should be from 0 to 10% but not exact 0. Probably this mistake is caused by the problem from point one. Another possible reason is different indexes in targets and predictions.\n",
    "\n",
    "</div>"
   ]
  },
  {
   "cell_type": "markdown",
   "id": "ab28c0e9-0151-4733-bf81-1f21905d417b",
   "metadata": {},
   "source": [
    "<div class=\"alert alert-block alert-info\">\n",
    "<b>Deb's answer. #1 : </b> <a class=\"tocSkip\"></a>\n",
    "There is no suggested region with this version of my code, so the conclusion has changed.\n",
    "</div>"
   ]
  },
  {
   "cell_type": "markdown",
   "id": "f3ed646a",
   "metadata": {},
   "source": [
    "<div class=\"alert alert-success\">\n",
    "<b>Reviewer's comment V2</b>\n",
    "\n",
    "Now the results are correct. Well done! But why there is no suggested region? Region 2 has a risk lower than 2.5%. This is the main criteria to suggest the region. So, you need to modify the logic for suggesting to pick the region 2 as a best region.\n",
    "\n",
    "</div>"
   ]
  },
  {
   "cell_type": "markdown",
   "id": "7a043758-da75-4ab5-80f5-fe3353863001",
   "metadata": {},
   "source": [
    "## <div style=\"color: red; border: 2px solid yellow; display: inline-block;\">Conclusion:</div>"
   ]
  },
  {
   "cell_type": "markdown",
   "id": "02dd84b2-1cb9-4fd6-906f-4c9d228e35db",
   "metadata": {},
   "source": [
    "### Project Objective\n",
    "The primary goal of this project was to identify the most profitable region for new oil well development, by predicting potential profits and assessing monetary risks across three geographical regions.\n",
    "\n",
    "### Predictive Models\n",
    "I used linear regression models, trained on existing geological oil well data, to predict the volume of oil reserves. By using these models, I calculated potential profits for each region, and evaluated the risks using bootstrapping techniques.\n",
    "\n",
    "### Results\n",
    "<ul>\n",
    "<li style=\"color:blue;\">\n",
    "Region 1: Has a predicted average profit of <b>&dollar;33.25 million</b>, an RMSE of <b>37.85</b>, a predicted avg of <b>155.35 barrels</b>, and a probability of loss of <b>6.0%</b>.<br>\n",
    "There's a <b>95% chance</b> that the actual profit will fall between roughly <b>&dollar;-1.6 million</b> and <b>&dollar;9.3 million</b>.\n",
    "</li>\n",
    "</ul>\n",
    "                                                                                                        \n",
    "<ul>\n",
    "<li style=\"color:limegreen;\">\n",
    "<b>Region 2</b>: Has a predicted average profit of <b>&dollar;24.2 million</b>, an RMSE of <b>0.89</b>, a predicted average of <b>138.73 barrels</b>, and a probability of loss of <b>1.1%</b>.<br>\n",
    "There's a <b>95% chance</b> that the actual profit will fall between roughly <b>&dollar;0.6 million</b> and <b>&dollar;8.6 million</b>.\n",
    "</li>\n",
    "</ul>\n",
    "    \n",
    "<ul>\n",
    "<li style=\"color:orange;\">\n",
    "<b>Region 3</b>: Has a predicted average profit of <b>&dollar;25.25 million</b>, an RMSE of <b>40.08</b>, a predicted average of <b>148.48 barrels</b>, and a probability of loss of <b>10.4%</b>.<br>\n",
    "There's a <b>95% chance</b> that the actual profit will fall between roughly <b>&dollar;-2.0 million</b> and <b>&dollar;8.0 million</b>.\n",
    "</li>\n",
    "</ul>\n",
    "\n",
    "### Recommendation\n",
    "All 3 regions are equally good for potential profit.\n",
    "   \n",
    "### <b>Return on Investment </b></span>\n",
    "- **ROI**=  (Net profit−Investment) / Investment\n",
    "- **ROI region1**= ((33,700,000 - 100,000,000) / 100,000,000) * 100 =  -66.3\\%\n",
    "- **ROI region1**= ((24,200,000 - 100,000,000) / 100,000,000) * 100 =  -75.8\\%\n",
    "- **ROI region1**= ((25,000,000 - 100,000,000) / 100,000,000) * 100 =  -75.0\\%\n",
    "\n",
    "Region 1 has a slightly better ROI. However, the model for region 1 and 3 are least reliable models.\n",
    "No matter which region you build in, it will take longer than one year to recoup the original investment of \\$100,000,000.\n",
    "​\n",
    "\n",
    "    "
   ]
  }
 ],
 "metadata": {
  "ExecuteTimeLog": [
   {
    "duration": 7,
    "start_time": "2024-10-07T17:06:40.112Z"
   },
   {
    "duration": 5,
    "start_time": "2024-10-07T17:08:40.172Z"
   }
  ],
  "kernelspec": {
   "display_name": "Python 3 (ipykernel)",
   "language": "python",
   "name": "python3"
  },
  "language_info": {
   "codemirror_mode": {
    "name": "ipython",
    "version": 3
   },
   "file_extension": ".py",
   "mimetype": "text/x-python",
   "name": "python",
   "nbconvert_exporter": "python",
   "pygments_lexer": "ipython3",
   "version": "3.9.19"
  },
  "toc": {
   "base_numbering": 1,
   "nav_menu": {},
   "number_sections": true,
   "sideBar": true,
   "skip_h1_title": true,
   "title_cell": "Table of Contents",
   "title_sidebar": "Contents",
   "toc_cell": false,
   "toc_position": {},
   "toc_section_display": true,
   "toc_window_display": false
  }
 },
 "nbformat": 4,
 "nbformat_minor": 5
}
